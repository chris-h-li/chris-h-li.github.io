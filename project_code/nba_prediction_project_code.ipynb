{
 "cells": [
  {
   "cell_type": "code",
   "execution_count": 1,
   "id": "00953c5f",
   "metadata": {},
   "outputs": [],
   "source": [
    "import tensorflow as tf"
   ]
  },
  {
   "cell_type": "code",
   "execution_count": 2,
   "id": "2e4cbb50",
   "metadata": {},
   "outputs": [],
   "source": [
    "import numpy as np\n",
    "import pandas as pd\n",
    "from sklearn import linear_model, preprocessing\n",
    "#from sklearnex import patch_sklearn\n",
    "#patch_sklearn()\n",
    "from patsy import dmatrices, dmatrix\n",
    "import copy\n",
    "import re\n",
    "from sklearn.preprocessing import StandardScaler\n",
    "from sklearn.compose import ColumnTransformer\n",
    "from sklearn.preprocessing import StandardScaler\n",
    "import math as m\n",
    "from sklearn.model_selection import train_test_split\n",
    "from sklearn.mixture import GaussianMixture\n",
    "from tensorflow import keras\n",
    "from tensorflow.keras.models import Sequential\n",
    "from tensorflow.keras.layers import Dense, Flatten, Dropout\n",
    "from sklearn.metrics import confusion_matrix\n",
    "from sklearn.ensemble import RandomForestClassifier\n",
    "\n",
    "\n",
    "from sklearn.model_selection import GridSearchCV\n",
    "from sklearn.metrics import accuracy_score\n",
    "import matplotlib.pyplot as plt\n",
    "import seaborn as sns"
   ]
  },
  {
   "cell_type": "code",
   "execution_count": 3,
   "id": "70253226",
   "metadata": {},
   "outputs": [],
   "source": [
    "reg_seas_by_year = pd.read_csv('C:/Users/Chris Li/Documents/UC Davis/STA 221/Data/player_regular_season.txt', sep = ',') \n",
    "positions = pd.read_csv('C:/Users/Chris Li/Documents/UC Davis/STA 221/Data/players.txt', sep = ',') \n",
    "positions = positions[['ilkid', 'position']]"
   ]
  },
  {
   "cell_type": "code",
   "execution_count": 4,
   "id": "0217aa8f",
   "metadata": {},
   "outputs": [],
   "source": [
    "# filter to 1979 and after, 3 point line was adopted. so we can use three point data\n",
    "# year 1979 represent 79-80 season\n",
    "# also data was sparse early on\n",
    "\n",
    "# add some helpful variables\n",
    "later_data = reg_seas_by_year[reg_seas_by_year.apply(lambda x: (x['year'] >= 1979), axis=1)].copy()\n",
    "\n",
    "later_data = later_data.\\\n",
    "    sort_values(['year', 'ilkid'], ascending=[True, True])\n",
    "later_data['cum_gp'] = later_data.groupby(['ilkid'])['gp'].cumsum()\n",
    "later_data['career_gp'] = later_data.groupby(['ilkid'])['gp'].transform('sum')\n",
    "later_data['season_num'] = later_data.groupby(['ilkid'])['gp'].cumcount()+1\n",
    "\n",
    "# only say yes if over 100 for that whole season\n",
    "later_data[\"lag_cum_gp\"] = later_data.groupby('ilkid')['cum_gp'].shift(1)\n",
    "\n",
    "later_data['season_num_if_not_100_by_beg_seas'] = np.where(later_data['lag_cum_gp'] >= 100, 0, later_data['season_num'])\n",
    "later_data['seasons_to_100'] = later_data.groupby(['ilkid'])['season_num_if_not_100_by_beg_seas'].transform('max')\n",
    "later_data['total_seasons'] = later_data.groupby(['ilkid'])['season_num'].transform('max')\n",
    "\n",
    "later_data['gp_if_in_first3seas'] = np.where(later_data['season_num'] <= 3, later_data['gp'], 0)\n",
    "later_data['first_three_seas_gp'] = later_data.groupby(['ilkid'])['gp_if_in_first3seas'].transform('sum')\n",
    "\n",
    "later_data['gp_after_first3seas'] = np.where(later_data['season_num'] > 3, later_data['gp'], 0)\n",
    "later_data['after_first_three_seas_gp'] = later_data.groupby(['ilkid'])['gp_after_first3seas'].transform('sum')\n",
    "later_data['maxseasgp_after_first_three_seas'] = later_data.groupby(['ilkid'])['gp_after_first3seas'].transform('max')\n",
    "\n",
    "pg_vars = ['minutes', 'pts', 'oreb', 'dreb', 'reb', 'asts', 'stl', 'blk',\n",
    "       'turnover', 'pf']\n",
    "\n",
    "# make per game variables\n",
    "for var in pg_vars:\n",
    "    later_data[var + \"_pg\"] = later_data[var] / later_data['gp']\n",
    "\n",
    "later_data = later_data.assign(fg_pct = lambda x: x.fgm / x.fga,\n",
    "                              ft_pct = lambda x: x.ftm / x.fta,\n",
    "                              tp_pct = lambda x: x.tpm / x.tpa)\n",
    "    "
   ]
  },
  {
   "cell_type": "code",
   "execution_count": 5,
   "id": "578d8a88",
   "metadata": {},
   "outputs": [],
   "source": [
    "# filter to players that played more than 20 games in first three seasons and at least one game afterwards\n",
    "relevant_players = later_data[later_data.apply(lambda x: (x['first_three_seas_gp'] >= 20) & (x['after_first_three_seas_gp'] >= 1), axis=1)].copy()\n",
    "#relevant_players.head()"
   ]
  },
  {
   "cell_type": "code",
   "execution_count": 6,
   "id": "9fe41903",
   "metadata": {},
   "outputs": [],
   "source": [
    "# this will be dataset used for analysis\n",
    "players_to_cluster = relevant_players.copy()"
   ]
  },
  {
   "cell_type": "markdown",
   "id": "a15c5e33",
   "metadata": {},
   "source": [
    "## 1. Make final dataset for first 3 seasons"
   ]
  },
  {
   "cell_type": "code",
   "execution_count": 7,
   "id": "99126314",
   "metadata": {},
   "outputs": [
    {
     "name": "stdout",
     "output_type": "stream",
     "text": [
      "Number of Players\n"
     ]
    },
    {
     "data": {
      "text/plain": [
       "1116"
      ]
     },
     "execution_count": 7,
     "metadata": {},
     "output_type": "execute_result"
    }
   ],
   "source": [
    "print(\"Number of Players\")\n",
    "len(players_to_cluster['ilkid'].drop_duplicates())"
   ]
  },
  {
   "cell_type": "code",
   "execution_count": 8,
   "id": "8c458cae",
   "metadata": {},
   "outputs": [
    {
     "name": "stdout",
     "output_type": "stream",
     "text": [
      "180\n",
      "159\n",
      "172\n"
     ]
    }
   ],
   "source": [
    "# make first three seasons dataset - wide version, one row for each player\n",
    "\n",
    "first_3_seas = players_to_cluster[players_to_cluster.apply(lambda x: (x['season_num'] <= 3), axis=1)].copy()\n",
    "\n",
    "first_3_seas = pd.pivot(first_3_seas, values = ['gp','minutes_pg', 'pts_pg', 'oreb_pg', 'dreb_pg', 'reb_pg', 'asts_pg',\n",
    "       'stl_pg', 'blk_pg', 'turnover_pg', 'pf_pg', 'fg_pct', 'ft_pct','tpa', 'tpm', \\\n",
    "       'tp_pct'], index = ['ilkid', 'firstname', 'lastname', 'career_gp', \\\n",
    "        'total_seasons'], columns = 'season_num').reset_index()\n",
    "\n",
    "level_one = first_3_seas.columns.get_level_values(0).astype(str)\n",
    "level_two = first_3_seas.columns.get_level_values(1).astype(str)\n",
    "first_3_seas.columns = level_one + level_two\n",
    "\n",
    "first_3_seas.head(5)\n",
    "\n",
    "# filter out pl;ayers with data that have missing values for non three point categories\n",
    "first_3_seas = first_3_seas.dropna(subset=list(set(first_3_seas.columns) - set([\"tp_pct1\", \"tp_pct2\", \"tp_pct3\"])))\n",
    "    \n",
    "# IMPUTE VALUES for three point percentage. This was just testing, these variables are never used in analyses\n",
    "# impute values for missing three point pct as weighted averages\n",
    "mean_tp1 = first_3_seas.loc[:, 'tpm1'].sum() / first_3_seas.loc[:, 'tpa1'].sum()\n",
    "mean_tp1\n",
    "\n",
    "mean_tp2 = first_3_seas.loc[:, 'tpm2'].sum() / first_3_seas.loc[:, 'tpa2'].sum()\n",
    "mean_tp2\n",
    "\n",
    "mean_tp3 = first_3_seas.loc[:, 'tpm3'].sum() / first_3_seas.loc[:, 'tpa3'].sum()\n",
    "mean_tp3\n",
    "\n",
    "# print how many players have na three point pct in each of first three seasons\n",
    "print(sum(np.where(first_3_seas['tp_pct1'].isna(), 1, 0)))\n",
    "print(sum(np.where(first_3_seas['tp_pct2'].isna(), 1, 0)))\n",
    "print(sum(np.where(first_3_seas['tp_pct3'].isna(), 1, 0)))\n",
    "\n",
    "first_3_seas['tp_pct1'] = np.where(first_3_seas['tp_pct1'].isna(), mean_tp1, first_3_seas['tp_pct1'])\n",
    "first_3_seas['tp_pct2'] = np.where(first_3_seas['tp_pct2'].isna(), mean_tp2, first_3_seas['tp_pct2'])\n",
    "first_3_seas['tp_pct3'] = np.where(first_3_seas['tp_pct3'].isna(), mean_tp3, first_3_seas['tp_pct3'])"
   ]
  },
  {
   "cell_type": "code",
   "execution_count": 9,
   "id": "da5731a0",
   "metadata": {},
   "outputs": [
    {
     "name": "stdout",
     "output_type": "stream",
     "text": [
      "Number of Players\n"
     ]
    },
    {
     "data": {
      "text/plain": [
       "1041"
      ]
     },
     "execution_count": 9,
     "metadata": {},
     "output_type": "execute_result"
    }
   ],
   "source": [
    "print(\"Number of Players\")\n",
    "len(first_3_seas['ilkid'].drop_duplicates())"
   ]
  },
  {
   "cell_type": "markdown",
   "id": "c04aba1a",
   "metadata": {},
   "source": [
    "less than 10% of data is filtered out for cleaning steps"
   ]
  },
  {
   "cell_type": "code",
   "execution_count": 10,
   "id": "a74f4409",
   "metadata": {
    "scrolled": true
   },
   "outputs": [],
   "source": [
    "# confirm there are no na values\n",
    "#first_3_seas.isna().sum()"
   ]
  },
  {
   "cell_type": "code",
   "execution_count": 11,
   "id": "cbe0749f",
   "metadata": {},
   "outputs": [
    {
     "data": {
      "text/plain": [
       "0"
      ]
     },
     "execution_count": 11,
     "metadata": {},
     "output_type": "execute_result"
    }
   ],
   "source": [
    "# merge positions onto data\n",
    "final_pre_data = first_3_seas[list(set(first_3_seas.columns) - set([\"tpa1\", \"tpa2\", \"tpa3\",\"tpm1\", \"tpm2\", \"tpm3\"]))].copy().reset_index()\n",
    "final_pre_data = pd.merge(final_pre_data, positions, on='ilkid', how='left')\n",
    "\n",
    "# confirm all rows have positions\n",
    "final_pre_data['position'].isna().sum()"
   ]
  },
  {
   "cell_type": "markdown",
   "id": "5653cc7a",
   "metadata": {},
   "source": [
    "## 2. Make a player level dataset which aggregates all a player's statistics from after their first three seasons"
   ]
  },
  {
   "cell_type": "code",
   "execution_count": 12,
   "id": "1d9ee388",
   "metadata": {},
   "outputs": [],
   "source": [
    "# filter to seasons after third season\n",
    "post_data_unrestr = players_to_cluster[players_to_cluster.apply(lambda x: (x['season_num'] > 3), axis=1)].copy()\n",
    "pre_players = final_pre_data['ilkid'].drop_duplicates()\n",
    "\n",
    "# aggregate data\n",
    "post_player_level = post_data_unrestr.groupby(['ilkid'])[['gp',\n",
    "       'minutes', 'pts', 'oreb', 'dreb', 'reb', 'asts', 'stl', 'blk',\n",
    "       'turnover', 'pf', 'fga', 'fgm', 'fta', 'ftm', 'tpa', 'tpm']].sum().reset_index()\n",
    "\n",
    "# inner join to get rid of players filtered out in pre data cleaning\n",
    "post_player_level = pd.merge(pre_players, post_player_level, on='ilkid', how='left')"
   ]
  },
  {
   "cell_type": "code",
   "execution_count": 13,
   "id": "06c7fc5c",
   "metadata": {},
   "outputs": [],
   "source": [
    "# get percentage measures\n",
    "post_temp1 = copy.copy(post_player_level).assign(fg_pct = lambda x: x.fgm / x.fga,\n",
    "                              ft_pct = lambda x: x.ftm / x.fta,\n",
    "                              tp_pct = lambda x: x.tpm / x.tpa)\n",
    "\n",
    "# get per game numbers\n",
    "for var in list(set(post_temp1.columns) - set(['ilkid','gp', 'fga', 'fgm',\n",
    "       'fta', 'ftm', 'tpa', 'tpm', 'fg_pct', 'ft_pct', 'tp_pct'])):\n",
    "    post_temp1[var] = post_temp1[var] / post_temp1['gp']\n",
    "\n",
    "# drop players that have na values in any columns\n",
    "post_temp1 = post_temp1.dropna(subset=list(set(post_temp1.columns) - set([\"tp_pct\"])))"
   ]
  },
  {
   "cell_type": "code",
   "execution_count": 14,
   "id": "d899cc9a",
   "metadata": {},
   "outputs": [],
   "source": [
    "# any nas\n",
    "#post_temp1.isna().sum()\n"
   ]
  },
  {
   "cell_type": "markdown",
   "id": "53b64b1f",
   "metadata": {},
   "source": [
    "na values for tp pct is okay, not used in any analyses\n",
    "\n",
    "#### Impute missing values for three point percentage - but this variable is not used in final analysis"
   ]
  },
  {
   "cell_type": "code",
   "execution_count": 15,
   "id": "fb2e2fd2",
   "metadata": {},
   "outputs": [
    {
     "data": {
      "text/plain": [
       "0"
      ]
     },
     "execution_count": 15,
     "metadata": {},
     "output_type": "execute_result"
    }
   ],
   "source": [
    "# impute values for missing three point pct as weighted averages, not used in any analyses\n",
    "post_final = copy.copy(post_temp1)\n",
    "\n",
    "mean_tp = post_final.loc[:, 'tpm'].sum() / post_final.loc[:, 'tpa'].sum()\n",
    "\n",
    "post_final['tp_pct'] = np.where(post_final['tp_pct'].isna(), mean_tp, post_final['tp_pct'])\n",
    "\n",
    "# merge on positions\n",
    "post_final = pd.merge(post_final, positions, on='ilkid', how='left')\n",
    "\n",
    "# confirm all players have positions\n",
    "post_final['position'].isna().sum()"
   ]
  },
  {
   "cell_type": "code",
   "execution_count": 16,
   "id": "85472b45",
   "metadata": {},
   "outputs": [],
   "source": [
    "# make dataset for guards\n",
    "post_final_guard = post_final[post_final.apply(lambda x: (x['position'] == 'G'), axis=1)].copy()\n",
    "\n",
    "# get post guard ids to join back to pre data\n",
    "post_guard_ids = post_final_guard[['ilkid']]\n",
    "\n",
    "post_final_guard = post_final_guard[list(set(post_final.columns) - set(['fga', 'fgm',\n",
    "       'fta', 'ftm', 'tpa', 'tpm', 'ilkid', 'firstname', 'lastname']))]"
   ]
  },
  {
   "cell_type": "code",
   "execution_count": 17,
   "id": "f911e3f6",
   "metadata": {},
   "outputs": [],
   "source": [
    "\n",
    "# make dataset for forwards\n",
    "post_final_forw = post_final[post_final.apply(lambda x: (x['position'] != 'G'), axis=1)].copy()\n",
    "\n",
    "# get post forward ids to join back to pre data\n",
    "post_forw_ids = post_final_forw[['ilkid']]\n",
    "\n",
    "post_final_forw = post_final_forw[list(set(post_final.columns) - set(['fga', 'fgm',\n",
    "       'fta', 'ftm', 'tpa', 'tpm', 'ilkid', 'firstname', 'lastname']))]"
   ]
  },
  {
   "cell_type": "markdown",
   "id": "a8c44636",
   "metadata": {},
   "source": [
    "## 3. GMM - Guards"
   ]
  },
  {
   "cell_type": "code",
   "execution_count": 18,
   "id": "a97a56ed",
   "metadata": {},
   "outputs": [],
   "source": [
    "# filter to variables to cluster on\n",
    "post_array_off_guard = post_final_guard[['pts','asts','reb','minutes']].to_numpy()"
   ]
  },
  {
   "cell_type": "code",
   "execution_count": 19,
   "id": "15e92381",
   "metadata": {},
   "outputs": [
    {
     "name": "stderr",
     "output_type": "stream",
     "text": [
      "C:\\ProgramData\\Anaconda3\\envs\\tf\\lib\\site-packages\\sklearn\\cluster\\_kmeans.py:1382: UserWarning: KMeans is known to have a memory leak on Windows with MKL, when there are less chunks than available threads. You can avoid it by setting the environment variable OMP_NUM_THREADS=2.\n",
      "  warnings.warn(\n"
     ]
    }
   ],
   "source": [
    "from sklearn.mixture import GaussianMixture\n",
    "GM_guard = GaussianMixture(n_components=3, random_state=0)\n",
    "GM_guard.fit(post_array_off_guard)\n",
    "\n",
    "GM_predict_guard = GM_guard.predict(post_array_off_guard)"
   ]
  },
  {
   "cell_type": "markdown",
   "id": "a7c45f9d",
   "metadata": {},
   "source": [
    "Cluster means for 'pts','asts','reb','minutes'"
   ]
  },
  {
   "cell_type": "code",
   "execution_count": 20,
   "id": "7f4f09ef",
   "metadata": {},
   "outputs": [
    {
     "data": {
      "text/plain": [
       "array([[ 9.33508491,  3.14171936,  2.38182651, 23.30532677],\n",
       "       [16.83849834,  5.18383793,  4.00510457, 34.17180995],\n",
       "       [ 4.66822725,  1.87471487,  1.36206125, 13.9916336 ]])"
      ]
     },
     "execution_count": 20,
     "metadata": {},
     "output_type": "execute_result"
    }
   ],
   "source": [
    "GM_guard.means_"
   ]
  },
  {
   "cell_type": "code",
   "execution_count": 21,
   "id": "718b217c",
   "metadata": {},
   "outputs": [],
   "source": [
    "clusters_guard = GM_predict_guard.copy()"
   ]
  },
  {
   "cell_type": "markdown",
   "id": "93ad27ed",
   "metadata": {},
   "source": [
    "### Cross Validation and BIC"
   ]
  },
  {
   "cell_type": "code",
   "execution_count": 26,
   "id": "6be44302",
   "metadata": {},
   "outputs": [
    {
     "name": "stderr",
     "output_type": "stream",
     "text": [
      "C:\\ProgramData\\Anaconda3\\envs\\tf\\lib\\site-packages\\sklearn\\cluster\\_kmeans.py:1382: UserWarning: KMeans is known to have a memory leak on Windows with MKL, when there are less chunks than available threads. You can avoid it by setting the environment variable OMP_NUM_THREADS=2.\n",
      "  warnings.warn(\n",
      "C:\\ProgramData\\Anaconda3\\envs\\tf\\lib\\site-packages\\sklearn\\cluster\\_kmeans.py:1382: UserWarning: KMeans is known to have a memory leak on Windows with MKL, when there are less chunks than available threads. You can avoid it by setting the environment variable OMP_NUM_THREADS=2.\n",
      "  warnings.warn(\n",
      "C:\\ProgramData\\Anaconda3\\envs\\tf\\lib\\site-packages\\sklearn\\cluster\\_kmeans.py:1382: UserWarning: KMeans is known to have a memory leak on Windows with MKL, when there are less chunks than available threads. You can avoid it by setting the environment variable OMP_NUM_THREADS=2.\n",
      "  warnings.warn(\n",
      "C:\\ProgramData\\Anaconda3\\envs\\tf\\lib\\site-packages\\sklearn\\cluster\\_kmeans.py:1382: UserWarning: KMeans is known to have a memory leak on Windows with MKL, when there are less chunks than available threads. You can avoid it by setting the environment variable OMP_NUM_THREADS=2.\n",
      "  warnings.warn(\n",
      "C:\\ProgramData\\Anaconda3\\envs\\tf\\lib\\site-packages\\sklearn\\cluster\\_kmeans.py:1382: UserWarning: KMeans is known to have a memory leak on Windows with MKL, when there are less chunks than available threads. You can avoid it by setting the environment variable OMP_NUM_THREADS=2.\n",
      "  warnings.warn(\n",
      "C:\\ProgramData\\Anaconda3\\envs\\tf\\lib\\site-packages\\sklearn\\cluster\\_kmeans.py:1382: UserWarning: KMeans is known to have a memory leak on Windows with MKL, when there are less chunks than available threads. You can avoid it by setting the environment variable OMP_NUM_THREADS=2.\n",
      "  warnings.warn(\n",
      "C:\\ProgramData\\Anaconda3\\envs\\tf\\lib\\site-packages\\sklearn\\cluster\\_kmeans.py:1382: UserWarning: KMeans is known to have a memory leak on Windows with MKL, when there are less chunks than available threads. You can avoid it by setting the environment variable OMP_NUM_THREADS=2.\n",
      "  warnings.warn(\n",
      "C:\\ProgramData\\Anaconda3\\envs\\tf\\lib\\site-packages\\sklearn\\cluster\\_kmeans.py:1382: UserWarning: KMeans is known to have a memory leak on Windows with MKL, when there are less chunks than available threads. You can avoid it by setting the environment variable OMP_NUM_THREADS=2.\n",
      "  warnings.warn(\n",
      "C:\\ProgramData\\Anaconda3\\envs\\tf\\lib\\site-packages\\sklearn\\cluster\\_kmeans.py:1382: UserWarning: KMeans is known to have a memory leak on Windows with MKL, when there are less chunks than available threads. You can avoid it by setting the environment variable OMP_NUM_THREADS=2.\n",
      "  warnings.warn(\n",
      "C:\\ProgramData\\Anaconda3\\envs\\tf\\lib\\site-packages\\sklearn\\cluster\\_kmeans.py:1382: UserWarning: KMeans is known to have a memory leak on Windows with MKL, when there are less chunks than available threads. You can avoid it by setting the environment variable OMP_NUM_THREADS=2.\n",
      "  warnings.warn(\n",
      "C:\\ProgramData\\Anaconda3\\envs\\tf\\lib\\site-packages\\sklearn\\cluster\\_kmeans.py:1382: UserWarning: KMeans is known to have a memory leak on Windows with MKL, when there are less chunks than available threads. You can avoid it by setting the environment variable OMP_NUM_THREADS=2.\n",
      "  warnings.warn(\n",
      "C:\\ProgramData\\Anaconda3\\envs\\tf\\lib\\site-packages\\sklearn\\cluster\\_kmeans.py:1382: UserWarning: KMeans is known to have a memory leak on Windows with MKL, when there are less chunks than available threads. You can avoid it by setting the environment variable OMP_NUM_THREADS=2.\n",
      "  warnings.warn(\n",
      "C:\\ProgramData\\Anaconda3\\envs\\tf\\lib\\site-packages\\sklearn\\cluster\\_kmeans.py:1382: UserWarning: KMeans is known to have a memory leak on Windows with MKL, when there are less chunks than available threads. You can avoid it by setting the environment variable OMP_NUM_THREADS=2.\n",
      "  warnings.warn(\n",
      "C:\\ProgramData\\Anaconda3\\envs\\tf\\lib\\site-packages\\sklearn\\cluster\\_kmeans.py:1382: UserWarning: KMeans is known to have a memory leak on Windows with MKL, when there are less chunks than available threads. You can avoid it by setting the environment variable OMP_NUM_THREADS=2.\n",
      "  warnings.warn(\n",
      "C:\\ProgramData\\Anaconda3\\envs\\tf\\lib\\site-packages\\sklearn\\cluster\\_kmeans.py:1382: UserWarning: KMeans is known to have a memory leak on Windows with MKL, when there are less chunks than available threads. You can avoid it by setting the environment variable OMP_NUM_THREADS=2.\n",
      "  warnings.warn(\n",
      "C:\\ProgramData\\Anaconda3\\envs\\tf\\lib\\site-packages\\sklearn\\cluster\\_kmeans.py:1382: UserWarning: KMeans is known to have a memory leak on Windows with MKL, when there are less chunks than available threads. You can avoid it by setting the environment variable OMP_NUM_THREADS=2.\n",
      "  warnings.warn(\n",
      "C:\\ProgramData\\Anaconda3\\envs\\tf\\lib\\site-packages\\sklearn\\cluster\\_kmeans.py:1382: UserWarning: KMeans is known to have a memory leak on Windows with MKL, when there are less chunks than available threads. You can avoid it by setting the environment variable OMP_NUM_THREADS=2.\n",
      "  warnings.warn(\n",
      "C:\\ProgramData\\Anaconda3\\envs\\tf\\lib\\site-packages\\sklearn\\cluster\\_kmeans.py:1382: UserWarning: KMeans is known to have a memory leak on Windows with MKL, when there are less chunks than available threads. You can avoid it by setting the environment variable OMP_NUM_THREADS=2.\n",
      "  warnings.warn(\n",
      "C:\\ProgramData\\Anaconda3\\envs\\tf\\lib\\site-packages\\sklearn\\cluster\\_kmeans.py:1382: UserWarning: KMeans is known to have a memory leak on Windows with MKL, when there are less chunks than available threads. You can avoid it by setting the environment variable OMP_NUM_THREADS=2.\n",
      "  warnings.warn(\n",
      "C:\\ProgramData\\Anaconda3\\envs\\tf\\lib\\site-packages\\sklearn\\cluster\\_kmeans.py:1382: UserWarning: KMeans is known to have a memory leak on Windows with MKL, when there are less chunks than available threads. You can avoid it by setting the environment variable OMP_NUM_THREADS=2.\n",
      "  warnings.warn(\n",
      "C:\\ProgramData\\Anaconda3\\envs\\tf\\lib\\site-packages\\sklearn\\cluster\\_kmeans.py:1382: UserWarning: KMeans is known to have a memory leak on Windows with MKL, when there are less chunks than available threads. You can avoid it by setting the environment variable OMP_NUM_THREADS=2.\n",
      "  warnings.warn(\n",
      "C:\\ProgramData\\Anaconda3\\envs\\tf\\lib\\site-packages\\sklearn\\cluster\\_kmeans.py:1382: UserWarning: KMeans is known to have a memory leak on Windows with MKL, when there are less chunks than available threads. You can avoid it by setting the environment variable OMP_NUM_THREADS=2.\n",
      "  warnings.warn(\n",
      "C:\\ProgramData\\Anaconda3\\envs\\tf\\lib\\site-packages\\sklearn\\cluster\\_kmeans.py:1382: UserWarning: KMeans is known to have a memory leak on Windows with MKL, when there are less chunks than available threads. You can avoid it by setting the environment variable OMP_NUM_THREADS=2.\n",
      "  warnings.warn(\n",
      "C:\\ProgramData\\Anaconda3\\envs\\tf\\lib\\site-packages\\sklearn\\cluster\\_kmeans.py:1382: UserWarning: KMeans is known to have a memory leak on Windows with MKL, when there are less chunks than available threads. You can avoid it by setting the environment variable OMP_NUM_THREADS=2.\n",
      "  warnings.warn(\n",
      "C:\\ProgramData\\Anaconda3\\envs\\tf\\lib\\site-packages\\sklearn\\cluster\\_kmeans.py:1382: UserWarning: KMeans is known to have a memory leak on Windows with MKL, when there are less chunks than available threads. You can avoid it by setting the environment variable OMP_NUM_THREADS=2.\n",
      "  warnings.warn(\n",
      "C:\\ProgramData\\Anaconda3\\envs\\tf\\lib\\site-packages\\sklearn\\cluster\\_kmeans.py:1382: UserWarning: KMeans is known to have a memory leak on Windows with MKL, when there are less chunks than available threads. You can avoid it by setting the environment variable OMP_NUM_THREADS=2.\n",
      "  warnings.warn(\n",
      "C:\\ProgramData\\Anaconda3\\envs\\tf\\lib\\site-packages\\sklearn\\cluster\\_kmeans.py:1382: UserWarning: KMeans is known to have a memory leak on Windows with MKL, when there are less chunks than available threads. You can avoid it by setting the environment variable OMP_NUM_THREADS=2.\n",
      "  warnings.warn(\n",
      "C:\\ProgramData\\Anaconda3\\envs\\tf\\lib\\site-packages\\sklearn\\cluster\\_kmeans.py:1382: UserWarning: KMeans is known to have a memory leak on Windows with MKL, when there are less chunks than available threads. You can avoid it by setting the environment variable OMP_NUM_THREADS=2.\n",
      "  warnings.warn(\n"
     ]
    },
    {
     "name": "stderr",
     "output_type": "stream",
     "text": [
      "C:\\ProgramData\\Anaconda3\\envs\\tf\\lib\\site-packages\\sklearn\\cluster\\_kmeans.py:1382: UserWarning: KMeans is known to have a memory leak on Windows with MKL, when there are less chunks than available threads. You can avoid it by setting the environment variable OMP_NUM_THREADS=2.\n",
      "  warnings.warn(\n",
      "C:\\ProgramData\\Anaconda3\\envs\\tf\\lib\\site-packages\\sklearn\\cluster\\_kmeans.py:1382: UserWarning: KMeans is known to have a memory leak on Windows with MKL, when there are less chunks than available threads. You can avoid it by setting the environment variable OMP_NUM_THREADS=2.\n",
      "  warnings.warn(\n",
      "C:\\ProgramData\\Anaconda3\\envs\\tf\\lib\\site-packages\\sklearn\\cluster\\_kmeans.py:1382: UserWarning: KMeans is known to have a memory leak on Windows with MKL, when there are less chunks than available threads. You can avoid it by setting the environment variable OMP_NUM_THREADS=2.\n",
      "  warnings.warn(\n",
      "C:\\ProgramData\\Anaconda3\\envs\\tf\\lib\\site-packages\\sklearn\\cluster\\_kmeans.py:1382: UserWarning: KMeans is known to have a memory leak on Windows with MKL, when there are less chunks than available threads. You can avoid it by setting the environment variable OMP_NUM_THREADS=2.\n",
      "  warnings.warn(\n",
      "C:\\ProgramData\\Anaconda3\\envs\\tf\\lib\\site-packages\\sklearn\\cluster\\_kmeans.py:1382: UserWarning: KMeans is known to have a memory leak on Windows with MKL, when there are less chunks than available threads. You can avoid it by setting the environment variable OMP_NUM_THREADS=2.\n",
      "  warnings.warn(\n",
      "C:\\ProgramData\\Anaconda3\\envs\\tf\\lib\\site-packages\\sklearn\\cluster\\_kmeans.py:1382: UserWarning: KMeans is known to have a memory leak on Windows with MKL, when there are less chunks than available threads. You can avoid it by setting the environment variable OMP_NUM_THREADS=2.\n",
      "  warnings.warn(\n",
      "C:\\ProgramData\\Anaconda3\\envs\\tf\\lib\\site-packages\\sklearn\\cluster\\_kmeans.py:1382: UserWarning: KMeans is known to have a memory leak on Windows with MKL, when there are less chunks than available threads. You can avoid it by setting the environment variable OMP_NUM_THREADS=2.\n",
      "  warnings.warn(\n",
      "C:\\ProgramData\\Anaconda3\\envs\\tf\\lib\\site-packages\\sklearn\\cluster\\_kmeans.py:1382: UserWarning: KMeans is known to have a memory leak on Windows with MKL, when there are less chunks than available threads. You can avoid it by setting the environment variable OMP_NUM_THREADS=2.\n",
      "  warnings.warn(\n",
      "C:\\ProgramData\\Anaconda3\\envs\\tf\\lib\\site-packages\\sklearn\\cluster\\_kmeans.py:1382: UserWarning: KMeans is known to have a memory leak on Windows with MKL, when there are less chunks than available threads. You can avoid it by setting the environment variable OMP_NUM_THREADS=2.\n",
      "  warnings.warn(\n",
      "C:\\ProgramData\\Anaconda3\\envs\\tf\\lib\\site-packages\\sklearn\\cluster\\_kmeans.py:1382: UserWarning: KMeans is known to have a memory leak on Windows with MKL, when there are less chunks than available threads. You can avoid it by setting the environment variable OMP_NUM_THREADS=2.\n",
      "  warnings.warn(\n",
      "C:\\ProgramData\\Anaconda3\\envs\\tf\\lib\\site-packages\\sklearn\\cluster\\_kmeans.py:1382: UserWarning: KMeans is known to have a memory leak on Windows with MKL, when there are less chunks than available threads. You can avoid it by setting the environment variable OMP_NUM_THREADS=2.\n",
      "  warnings.warn(\n",
      "C:\\ProgramData\\Anaconda3\\envs\\tf\\lib\\site-packages\\sklearn\\cluster\\_kmeans.py:1382: UserWarning: KMeans is known to have a memory leak on Windows with MKL, when there are less chunks than available threads. You can avoid it by setting the environment variable OMP_NUM_THREADS=2.\n",
      "  warnings.warn(\n",
      "C:\\ProgramData\\Anaconda3\\envs\\tf\\lib\\site-packages\\sklearn\\cluster\\_kmeans.py:1382: UserWarning: KMeans is known to have a memory leak on Windows with MKL, when there are less chunks than available threads. You can avoid it by setting the environment variable OMP_NUM_THREADS=2.\n",
      "  warnings.warn(\n",
      "C:\\ProgramData\\Anaconda3\\envs\\tf\\lib\\site-packages\\sklearn\\cluster\\_kmeans.py:1382: UserWarning: KMeans is known to have a memory leak on Windows with MKL, when there are less chunks than available threads. You can avoid it by setting the environment variable OMP_NUM_THREADS=2.\n",
      "  warnings.warn(\n",
      "C:\\ProgramData\\Anaconda3\\envs\\tf\\lib\\site-packages\\sklearn\\cluster\\_kmeans.py:1382: UserWarning: KMeans is known to have a memory leak on Windows with MKL, when there are less chunks than available threads. You can avoid it by setting the environment variable OMP_NUM_THREADS=2.\n",
      "  warnings.warn(\n",
      "C:\\ProgramData\\Anaconda3\\envs\\tf\\lib\\site-packages\\sklearn\\cluster\\_kmeans.py:1382: UserWarning: KMeans is known to have a memory leak on Windows with MKL, when there are less chunks than available threads. You can avoid it by setting the environment variable OMP_NUM_THREADS=2.\n",
      "  warnings.warn(\n",
      "C:\\ProgramData\\Anaconda3\\envs\\tf\\lib\\site-packages\\sklearn\\cluster\\_kmeans.py:1382: UserWarning: KMeans is known to have a memory leak on Windows with MKL, when there are less chunks than available threads. You can avoid it by setting the environment variable OMP_NUM_THREADS=2.\n",
      "  warnings.warn(\n",
      "C:\\ProgramData\\Anaconda3\\envs\\tf\\lib\\site-packages\\sklearn\\cluster\\_kmeans.py:1382: UserWarning: KMeans is known to have a memory leak on Windows with MKL, when there are less chunks than available threads. You can avoid it by setting the environment variable OMP_NUM_THREADS=2.\n",
      "  warnings.warn(\n",
      "C:\\ProgramData\\Anaconda3\\envs\\tf\\lib\\site-packages\\sklearn\\cluster\\_kmeans.py:1382: UserWarning: KMeans is known to have a memory leak on Windows with MKL, when there are less chunks than available threads. You can avoid it by setting the environment variable OMP_NUM_THREADS=2.\n",
      "  warnings.warn(\n",
      "C:\\ProgramData\\Anaconda3\\envs\\tf\\lib\\site-packages\\sklearn\\cluster\\_kmeans.py:1382: UserWarning: KMeans is known to have a memory leak on Windows with MKL, when there are less chunks than available threads. You can avoid it by setting the environment variable OMP_NUM_THREADS=2.\n",
      "  warnings.warn(\n",
      "C:\\ProgramData\\Anaconda3\\envs\\tf\\lib\\site-packages\\sklearn\\cluster\\_kmeans.py:1382: UserWarning: KMeans is known to have a memory leak on Windows with MKL, when there are less chunks than available threads. You can avoid it by setting the environment variable OMP_NUM_THREADS=2.\n",
      "  warnings.warn(\n",
      "C:\\ProgramData\\Anaconda3\\envs\\tf\\lib\\site-packages\\sklearn\\cluster\\_kmeans.py:1382: UserWarning: KMeans is known to have a memory leak on Windows with MKL, when there are less chunks than available threads. You can avoid it by setting the environment variable OMP_NUM_THREADS=2.\n",
      "  warnings.warn(\n",
      "C:\\ProgramData\\Anaconda3\\envs\\tf\\lib\\site-packages\\sklearn\\cluster\\_kmeans.py:1382: UserWarning: KMeans is known to have a memory leak on Windows with MKL, when there are less chunks than available threads. You can avoid it by setting the environment variable OMP_NUM_THREADS=2.\n",
      "  warnings.warn(\n",
      "C:\\ProgramData\\Anaconda3\\envs\\tf\\lib\\site-packages\\sklearn\\cluster\\_kmeans.py:1382: UserWarning: KMeans is known to have a memory leak on Windows with MKL, when there are less chunks than available threads. You can avoid it by setting the environment variable OMP_NUM_THREADS=2.\n",
      "  warnings.warn(\n",
      "C:\\ProgramData\\Anaconda3\\envs\\tf\\lib\\site-packages\\sklearn\\cluster\\_kmeans.py:1382: UserWarning: KMeans is known to have a memory leak on Windows with MKL, when there are less chunks than available threads. You can avoid it by setting the environment variable OMP_NUM_THREADS=2.\n",
      "  warnings.warn(\n",
      "C:\\ProgramData\\Anaconda3\\envs\\tf\\lib\\site-packages\\sklearn\\cluster\\_kmeans.py:1382: UserWarning: KMeans is known to have a memory leak on Windows with MKL, when there are less chunks than available threads. You can avoid it by setting the environment variable OMP_NUM_THREADS=2.\n",
      "  warnings.warn(\n",
      "C:\\ProgramData\\Anaconda3\\envs\\tf\\lib\\site-packages\\sklearn\\cluster\\_kmeans.py:1382: UserWarning: KMeans is known to have a memory leak on Windows with MKL, when there are less chunks than available threads. You can avoid it by setting the environment variable OMP_NUM_THREADS=2.\n",
      "  warnings.warn(\n",
      "C:\\ProgramData\\Anaconda3\\envs\\tf\\lib\\site-packages\\sklearn\\cluster\\_kmeans.py:1382: UserWarning: KMeans is known to have a memory leak on Windows with MKL, when there are less chunks than available threads. You can avoid it by setting the environment variable OMP_NUM_THREADS=2.\n",
      "  warnings.warn(\n"
     ]
    },
    {
     "name": "stderr",
     "output_type": "stream",
     "text": [
      "C:\\ProgramData\\Anaconda3\\envs\\tf\\lib\\site-packages\\sklearn\\cluster\\_kmeans.py:1382: UserWarning: KMeans is known to have a memory leak on Windows with MKL, when there are less chunks than available threads. You can avoid it by setting the environment variable OMP_NUM_THREADS=2.\n",
      "  warnings.warn(\n",
      "C:\\ProgramData\\Anaconda3\\envs\\tf\\lib\\site-packages\\sklearn\\cluster\\_kmeans.py:1382: UserWarning: KMeans is known to have a memory leak on Windows with MKL, when there are less chunks than available threads. You can avoid it by setting the environment variable OMP_NUM_THREADS=2.\n",
      "  warnings.warn(\n",
      "C:\\ProgramData\\Anaconda3\\envs\\tf\\lib\\site-packages\\sklearn\\cluster\\_kmeans.py:1382: UserWarning: KMeans is known to have a memory leak on Windows with MKL, when there are less chunks than available threads. You can avoid it by setting the environment variable OMP_NUM_THREADS=2.\n",
      "  warnings.warn(\n",
      "C:\\ProgramData\\Anaconda3\\envs\\tf\\lib\\site-packages\\sklearn\\cluster\\_kmeans.py:1382: UserWarning: KMeans is known to have a memory leak on Windows with MKL, when there are less chunks than available threads. You can avoid it by setting the environment variable OMP_NUM_THREADS=2.\n",
      "  warnings.warn(\n",
      "C:\\ProgramData\\Anaconda3\\envs\\tf\\lib\\site-packages\\sklearn\\cluster\\_kmeans.py:1382: UserWarning: KMeans is known to have a memory leak on Windows with MKL, when there are less chunks than available threads. You can avoid it by setting the environment variable OMP_NUM_THREADS=2.\n",
      "  warnings.warn(\n",
      "C:\\ProgramData\\Anaconda3\\envs\\tf\\lib\\site-packages\\sklearn\\cluster\\_kmeans.py:1382: UserWarning: KMeans is known to have a memory leak on Windows with MKL, when there are less chunks than available threads. You can avoid it by setting the environment variable OMP_NUM_THREADS=2.\n",
      "  warnings.warn(\n",
      "C:\\ProgramData\\Anaconda3\\envs\\tf\\lib\\site-packages\\sklearn\\cluster\\_kmeans.py:1382: UserWarning: KMeans is known to have a memory leak on Windows with MKL, when there are less chunks than available threads. You can avoid it by setting the environment variable OMP_NUM_THREADS=2.\n",
      "  warnings.warn(\n",
      "C:\\ProgramData\\Anaconda3\\envs\\tf\\lib\\site-packages\\sklearn\\cluster\\_kmeans.py:1382: UserWarning: KMeans is known to have a memory leak on Windows with MKL, when there are less chunks than available threads. You can avoid it by setting the environment variable OMP_NUM_THREADS=2.\n",
      "  warnings.warn(\n",
      "C:\\ProgramData\\Anaconda3\\envs\\tf\\lib\\site-packages\\sklearn\\cluster\\_kmeans.py:1382: UserWarning: KMeans is known to have a memory leak on Windows with MKL, when there are less chunks than available threads. You can avoid it by setting the environment variable OMP_NUM_THREADS=2.\n",
      "  warnings.warn(\n",
      "C:\\ProgramData\\Anaconda3\\envs\\tf\\lib\\site-packages\\sklearn\\cluster\\_kmeans.py:1382: UserWarning: KMeans is known to have a memory leak on Windows with MKL, when there are less chunks than available threads. You can avoid it by setting the environment variable OMP_NUM_THREADS=2.\n",
      "  warnings.warn(\n",
      "C:\\ProgramData\\Anaconda3\\envs\\tf\\lib\\site-packages\\sklearn\\cluster\\_kmeans.py:1382: UserWarning: KMeans is known to have a memory leak on Windows with MKL, when there are less chunks than available threads. You can avoid it by setting the environment variable OMP_NUM_THREADS=2.\n",
      "  warnings.warn(\n",
      "C:\\ProgramData\\Anaconda3\\envs\\tf\\lib\\site-packages\\sklearn\\cluster\\_kmeans.py:1382: UserWarning: KMeans is known to have a memory leak on Windows with MKL, when there are less chunks than available threads. You can avoid it by setting the environment variable OMP_NUM_THREADS=2.\n",
      "  warnings.warn(\n",
      "C:\\ProgramData\\Anaconda3\\envs\\tf\\lib\\site-packages\\sklearn\\cluster\\_kmeans.py:1382: UserWarning: KMeans is known to have a memory leak on Windows with MKL, when there are less chunks than available threads. You can avoid it by setting the environment variable OMP_NUM_THREADS=2.\n",
      "  warnings.warn(\n",
      "C:\\ProgramData\\Anaconda3\\envs\\tf\\lib\\site-packages\\sklearn\\cluster\\_kmeans.py:1382: UserWarning: KMeans is known to have a memory leak on Windows with MKL, when there are less chunks than available threads. You can avoid it by setting the environment variable OMP_NUM_THREADS=2.\n",
      "  warnings.warn(\n",
      "C:\\ProgramData\\Anaconda3\\envs\\tf\\lib\\site-packages\\sklearn\\cluster\\_kmeans.py:1382: UserWarning: KMeans is known to have a memory leak on Windows with MKL, when there are less chunks than available threads. You can avoid it by setting the environment variable OMP_NUM_THREADS=2.\n",
      "  warnings.warn(\n",
      "C:\\ProgramData\\Anaconda3\\envs\\tf\\lib\\site-packages\\sklearn\\cluster\\_kmeans.py:1382: UserWarning: KMeans is known to have a memory leak on Windows with MKL, when there are less chunks than available threads. You can avoid it by setting the environment variable OMP_NUM_THREADS=2.\n",
      "  warnings.warn(\n",
      "C:\\ProgramData\\Anaconda3\\envs\\tf\\lib\\site-packages\\sklearn\\cluster\\_kmeans.py:1382: UserWarning: KMeans is known to have a memory leak on Windows with MKL, when there are less chunks than available threads. You can avoid it by setting the environment variable OMP_NUM_THREADS=2.\n",
      "  warnings.warn(\n",
      "C:\\ProgramData\\Anaconda3\\envs\\tf\\lib\\site-packages\\sklearn\\cluster\\_kmeans.py:1382: UserWarning: KMeans is known to have a memory leak on Windows with MKL, when there are less chunks than available threads. You can avoid it by setting the environment variable OMP_NUM_THREADS=2.\n",
      "  warnings.warn(\n",
      "C:\\ProgramData\\Anaconda3\\envs\\tf\\lib\\site-packages\\sklearn\\cluster\\_kmeans.py:1382: UserWarning: KMeans is known to have a memory leak on Windows with MKL, when there are less chunks than available threads. You can avoid it by setting the environment variable OMP_NUM_THREADS=2.\n",
      "  warnings.warn(\n",
      "C:\\ProgramData\\Anaconda3\\envs\\tf\\lib\\site-packages\\sklearn\\cluster\\_kmeans.py:1382: UserWarning: KMeans is known to have a memory leak on Windows with MKL, when there are less chunks than available threads. You can avoid it by setting the environment variable OMP_NUM_THREADS=2.\n",
      "  warnings.warn(\n",
      "C:\\ProgramData\\Anaconda3\\envs\\tf\\lib\\site-packages\\sklearn\\cluster\\_kmeans.py:1382: UserWarning: KMeans is known to have a memory leak on Windows with MKL, when there are less chunks than available threads. You can avoid it by setting the environment variable OMP_NUM_THREADS=2.\n",
      "  warnings.warn(\n",
      "C:\\ProgramData\\Anaconda3\\envs\\tf\\lib\\site-packages\\sklearn\\cluster\\_kmeans.py:1382: UserWarning: KMeans is known to have a memory leak on Windows with MKL, when there are less chunks than available threads. You can avoid it by setting the environment variable OMP_NUM_THREADS=2.\n",
      "  warnings.warn(\n",
      "C:\\ProgramData\\Anaconda3\\envs\\tf\\lib\\site-packages\\sklearn\\cluster\\_kmeans.py:1382: UserWarning: KMeans is known to have a memory leak on Windows with MKL, when there are less chunks than available threads. You can avoid it by setting the environment variable OMP_NUM_THREADS=2.\n",
      "  warnings.warn(\n",
      "C:\\ProgramData\\Anaconda3\\envs\\tf\\lib\\site-packages\\sklearn\\cluster\\_kmeans.py:1382: UserWarning: KMeans is known to have a memory leak on Windows with MKL, when there are less chunks than available threads. You can avoid it by setting the environment variable OMP_NUM_THREADS=2.\n",
      "  warnings.warn(\n",
      "C:\\ProgramData\\Anaconda3\\envs\\tf\\lib\\site-packages\\sklearn\\cluster\\_kmeans.py:1382: UserWarning: KMeans is known to have a memory leak on Windows with MKL, when there are less chunks than available threads. You can avoid it by setting the environment variable OMP_NUM_THREADS=2.\n",
      "  warnings.warn(\n",
      "C:\\ProgramData\\Anaconda3\\envs\\tf\\lib\\site-packages\\sklearn\\cluster\\_kmeans.py:1382: UserWarning: KMeans is known to have a memory leak on Windows with MKL, when there are less chunks than available threads. You can avoid it by setting the environment variable OMP_NUM_THREADS=2.\n",
      "  warnings.warn(\n",
      "C:\\ProgramData\\Anaconda3\\envs\\tf\\lib\\site-packages\\sklearn\\cluster\\_kmeans.py:1382: UserWarning: KMeans is known to have a memory leak on Windows with MKL, when there are less chunks than available threads. You can avoid it by setting the environment variable OMP_NUM_THREADS=2.\n",
      "  warnings.warn(\n",
      "C:\\ProgramData\\Anaconda3\\envs\\tf\\lib\\site-packages\\sklearn\\cluster\\_kmeans.py:1382: UserWarning: KMeans is known to have a memory leak on Windows with MKL, when there are less chunks than available threads. You can avoid it by setting the environment variable OMP_NUM_THREADS=2.\n",
      "  warnings.warn(\n"
     ]
    },
    {
     "name": "stderr",
     "output_type": "stream",
     "text": [
      "C:\\ProgramData\\Anaconda3\\envs\\tf\\lib\\site-packages\\sklearn\\cluster\\_kmeans.py:1382: UserWarning: KMeans is known to have a memory leak on Windows with MKL, when there are less chunks than available threads. You can avoid it by setting the environment variable OMP_NUM_THREADS=2.\n",
      "  warnings.warn(\n",
      "C:\\ProgramData\\Anaconda3\\envs\\tf\\lib\\site-packages\\sklearn\\cluster\\_kmeans.py:1382: UserWarning: KMeans is known to have a memory leak on Windows with MKL, when there are less chunks than available threads. You can avoid it by setting the environment variable OMP_NUM_THREADS=2.\n",
      "  warnings.warn(\n",
      "C:\\ProgramData\\Anaconda3\\envs\\tf\\lib\\site-packages\\sklearn\\cluster\\_kmeans.py:1382: UserWarning: KMeans is known to have a memory leak on Windows with MKL, when there are less chunks than available threads. You can avoid it by setting the environment variable OMP_NUM_THREADS=2.\n",
      "  warnings.warn(\n",
      "C:\\ProgramData\\Anaconda3\\envs\\tf\\lib\\site-packages\\sklearn\\cluster\\_kmeans.py:1382: UserWarning: KMeans is known to have a memory leak on Windows with MKL, when there are less chunks than available threads. You can avoid it by setting the environment variable OMP_NUM_THREADS=2.\n",
      "  warnings.warn(\n",
      "C:\\ProgramData\\Anaconda3\\envs\\tf\\lib\\site-packages\\sklearn\\cluster\\_kmeans.py:1382: UserWarning: KMeans is known to have a memory leak on Windows with MKL, when there are less chunks than available threads. You can avoid it by setting the environment variable OMP_NUM_THREADS=2.\n",
      "  warnings.warn(\n",
      "C:\\ProgramData\\Anaconda3\\envs\\tf\\lib\\site-packages\\sklearn\\cluster\\_kmeans.py:1382: UserWarning: KMeans is known to have a memory leak on Windows with MKL, when there are less chunks than available threads. You can avoid it by setting the environment variable OMP_NUM_THREADS=2.\n",
      "  warnings.warn(\n"
     ]
    }
   ],
   "source": [
    "# find optimal number of clusters\n",
    "OMP_NUM_THREADS=2\n",
    "test_score_list = []\n",
    "bic_list = []\n",
    "# loop over different train test splits\n",
    "for k in range(0,10):\n",
    "    post_tr,post_te = train_test_split(post_array_off_guard, test_size = 0.2, train_size = 0.8, random_state = k)\n",
    "    # loop over random states\n",
    "\n",
    "    cluster_scores = []\n",
    "    bics=[]\n",
    "    for i in range(2,11):\n",
    "        gm = GaussianMixture(n_components=i, random_state=i)\n",
    "        gm.fit(post_tr)\n",
    "        # likelihood of test data\n",
    "        cluster_scores.append(m.e**(gm.score(post_te)))\n",
    "        bics.append(gm.bic(post_te))\n",
    "    test_score_list.append(cluster_scores)\n",
    "    bic_list.append(bics)"
   ]
  },
  {
   "cell_type": "code",
   "execution_count": 23,
   "id": "f3086fa8",
   "metadata": {},
   "outputs": [
    {
     "data": {
      "text/plain": [
       "array([0.00032645, 0.00035644, 0.00037167, 0.00035578, 0.00034176,\n",
       "       0.00032523, 0.00029784, 0.00030451, 0.00027325])"
      ]
     },
     "execution_count": 23,
     "metadata": {},
     "output_type": "execute_result"
    }
   ],
   "source": [
    "avg_likeli = np.array(test_score_list).mean(axis = 0)\n",
    "avg_likeli"
   ]
  },
  {
   "cell_type": "code",
   "execution_count": 28,
   "id": "9e51adaf",
   "metadata": {
    "scrolled": true
   },
   "outputs": [
    {
     "name": "stderr",
     "output_type": "stream",
     "text": [
      "C:\\ProgramData\\Anaconda3\\envs\\tf\\lib\\site-packages\\sklearn\\cluster\\_kmeans.py:1382: UserWarning: KMeans is known to have a memory leak on Windows with MKL, when there are less chunks than available threads. You can avoid it by setting the environment variable OMP_NUM_THREADS=2.\n",
      "  warnings.warn(\n",
      "C:\\ProgramData\\Anaconda3\\envs\\tf\\lib\\site-packages\\sklearn\\cluster\\_kmeans.py:1382: UserWarning: KMeans is known to have a memory leak on Windows with MKL, when there are less chunks than available threads. You can avoid it by setting the environment variable OMP_NUM_THREADS=2.\n",
      "  warnings.warn(\n",
      "C:\\ProgramData\\Anaconda3\\envs\\tf\\lib\\site-packages\\sklearn\\cluster\\_kmeans.py:1382: UserWarning: KMeans is known to have a memory leak on Windows with MKL, when there are less chunks than available threads. You can avoid it by setting the environment variable OMP_NUM_THREADS=2.\n",
      "  warnings.warn(\n",
      "C:\\ProgramData\\Anaconda3\\envs\\tf\\lib\\site-packages\\sklearn\\cluster\\_kmeans.py:1382: UserWarning: KMeans is known to have a memory leak on Windows with MKL, when there are less chunks than available threads. You can avoid it by setting the environment variable OMP_NUM_THREADS=2.\n",
      "  warnings.warn(\n",
      "C:\\ProgramData\\Anaconda3\\envs\\tf\\lib\\site-packages\\sklearn\\cluster\\_kmeans.py:1382: UserWarning: KMeans is known to have a memory leak on Windows with MKL, when there are less chunks than available threads. You can avoid it by setting the environment variable OMP_NUM_THREADS=2.\n",
      "  warnings.warn(\n",
      "C:\\ProgramData\\Anaconda3\\envs\\tf\\lib\\site-packages\\sklearn\\cluster\\_kmeans.py:1382: UserWarning: KMeans is known to have a memory leak on Windows with MKL, when there are less chunks than available threads. You can avoid it by setting the environment variable OMP_NUM_THREADS=2.\n",
      "  warnings.warn(\n",
      "C:\\ProgramData\\Anaconda3\\envs\\tf\\lib\\site-packages\\sklearn\\cluster\\_kmeans.py:1382: UserWarning: KMeans is known to have a memory leak on Windows with MKL, when there are less chunks than available threads. You can avoid it by setting the environment variable OMP_NUM_THREADS=2.\n",
      "  warnings.warn(\n",
      "C:\\ProgramData\\Anaconda3\\envs\\tf\\lib\\site-packages\\sklearn\\cluster\\_kmeans.py:1382: UserWarning: KMeans is known to have a memory leak on Windows with MKL, when there are less chunks than available threads. You can avoid it by setting the environment variable OMP_NUM_THREADS=2.\n",
      "  warnings.warn(\n",
      "C:\\ProgramData\\Anaconda3\\envs\\tf\\lib\\site-packages\\sklearn\\cluster\\_kmeans.py:1382: UserWarning: KMeans is known to have a memory leak on Windows with MKL, when there are less chunks than available threads. You can avoid it by setting the environment variable OMP_NUM_THREADS=2.\n",
      "  warnings.warn(\n"
     ]
    }
   ],
   "source": [
    "cluster_scores = []\n",
    "bics=[]\n",
    "for j in range(2,11):\n",
    "    # loop over number of clusters\n",
    "    \n",
    "    gm = GaussianMixture(n_components=j, random_state=j)\n",
    "    gm.fit(post_array_off_guard)\n",
    "    # likelihood of test data\n",
    "    cluster_scores.append(m.e**(gm.score(post_array_off_guard)))\n",
    "    bics.append(gm.bic(post_array_off_guard))"
   ]
  },
  {
   "cell_type": "code",
   "execution_count": 29,
   "id": "9268d944",
   "metadata": {},
   "outputs": [
    {
     "data": {
      "text/plain": [
       "[6791.284150121421,\n",
       " 6766.553769757378,\n",
       " 6746.664454436617,\n",
       " 6854.436344724365,\n",
       " 6894.80107133367,\n",
       " 6967.194400559898,\n",
       " 7019.337547094699,\n",
       " 7046.35872975953,\n",
       " 7083.388401239557]"
      ]
     },
     "execution_count": 29,
     "metadata": {},
     "output_type": "execute_result"
    }
   ],
   "source": [
    "bics"
   ]
  },
  {
   "cell_type": "markdown",
   "id": "b46566c5",
   "metadata": {},
   "source": [
    "## 4. GMM - Forward"
   ]
  },
  {
   "cell_type": "code",
   "execution_count": 30,
   "id": "4af459f4",
   "metadata": {},
   "outputs": [],
   "source": [
    "# filter to variables to cluster on\n",
    "post_array_off_forw = post_final_forw[['pts','asts','reb','minutes']].to_numpy()"
   ]
  },
  {
   "cell_type": "code",
   "execution_count": 31,
   "id": "d13fbc6e",
   "metadata": {},
   "outputs": [
    {
     "name": "stderr",
     "output_type": "stream",
     "text": [
      "C:\\ProgramData\\Anaconda3\\envs\\tf\\lib\\site-packages\\sklearn\\cluster\\_kmeans.py:1382: UserWarning: KMeans is known to have a memory leak on Windows with MKL, when there are less chunks than available threads. You can avoid it by setting the environment variable OMP_NUM_THREADS=3.\n",
      "  warnings.warn(\n"
     ]
    }
   ],
   "source": [
    "GM_forw = GaussianMixture(n_components=3, random_state=0)\n",
    "GM_forw.fit(post_array_off_forw)\n",
    "\n",
    "GM_predict_forw = GM_forw.predict(post_array_off_forw)"
   ]
  },
  {
   "cell_type": "markdown",
   "id": "5a154834",
   "metadata": {},
   "source": [
    "Cluster means for 'pts','asts','reb','minutes'"
   ]
  },
  {
   "cell_type": "code",
   "execution_count": 32,
   "id": "ffebc3b9",
   "metadata": {},
   "outputs": [
    {
     "data": {
      "text/plain": [
       "array([[ 3.54761498,  0.44634173,  2.58207098, 11.39142058],\n",
       "       [ 7.7921213 ,  1.17986446,  4.62077351, 20.92530354],\n",
       "       [15.17807524,  2.45627661,  6.94161229, 31.19296452]])"
      ]
     },
     "execution_count": 32,
     "metadata": {},
     "output_type": "execute_result"
    }
   ],
   "source": [
    "GM_forw.means_"
   ]
  },
  {
   "cell_type": "code",
   "execution_count": 33,
   "id": "edee4cb8",
   "metadata": {},
   "outputs": [],
   "source": [
    "clusters_forw = GM_predict_forw.copy()"
   ]
  },
  {
   "cell_type": "markdown",
   "id": "2cc5a53f",
   "metadata": {},
   "source": [
    "### Cross Validation and BIC"
   ]
  },
  {
   "cell_type": "code",
   "execution_count": 36,
   "id": "7434d1e1",
   "metadata": {},
   "outputs": [
    {
     "name": "stderr",
     "output_type": "stream",
     "text": [
      "C:\\ProgramData\\Anaconda3\\envs\\tf\\lib\\site-packages\\sklearn\\cluster\\_kmeans.py:1382: UserWarning: KMeans is known to have a memory leak on Windows with MKL, when there are less chunks than available threads. You can avoid it by setting the environment variable OMP_NUM_THREADS=2.\n",
      "  warnings.warn(\n",
      "C:\\ProgramData\\Anaconda3\\envs\\tf\\lib\\site-packages\\sklearn\\cluster\\_kmeans.py:1382: UserWarning: KMeans is known to have a memory leak on Windows with MKL, when there are less chunks than available threads. You can avoid it by setting the environment variable OMP_NUM_THREADS=2.\n",
      "  warnings.warn(\n",
      "C:\\ProgramData\\Anaconda3\\envs\\tf\\lib\\site-packages\\sklearn\\cluster\\_kmeans.py:1382: UserWarning: KMeans is known to have a memory leak on Windows with MKL, when there are less chunks than available threads. You can avoid it by setting the environment variable OMP_NUM_THREADS=2.\n",
      "  warnings.warn(\n",
      "C:\\ProgramData\\Anaconda3\\envs\\tf\\lib\\site-packages\\sklearn\\cluster\\_kmeans.py:1382: UserWarning: KMeans is known to have a memory leak on Windows with MKL, when there are less chunks than available threads. You can avoid it by setting the environment variable OMP_NUM_THREADS=2.\n",
      "  warnings.warn(\n",
      "C:\\ProgramData\\Anaconda3\\envs\\tf\\lib\\site-packages\\sklearn\\cluster\\_kmeans.py:1382: UserWarning: KMeans is known to have a memory leak on Windows with MKL, when there are less chunks than available threads. You can avoid it by setting the environment variable OMP_NUM_THREADS=2.\n",
      "  warnings.warn(\n",
      "C:\\ProgramData\\Anaconda3\\envs\\tf\\lib\\site-packages\\sklearn\\cluster\\_kmeans.py:1382: UserWarning: KMeans is known to have a memory leak on Windows with MKL, when there are less chunks than available threads. You can avoid it by setting the environment variable OMP_NUM_THREADS=2.\n",
      "  warnings.warn(\n",
      "C:\\ProgramData\\Anaconda3\\envs\\tf\\lib\\site-packages\\sklearn\\cluster\\_kmeans.py:1382: UserWarning: KMeans is known to have a memory leak on Windows with MKL, when there are less chunks than available threads. You can avoid it by setting the environment variable OMP_NUM_THREADS=2.\n",
      "  warnings.warn(\n",
      "C:\\ProgramData\\Anaconda3\\envs\\tf\\lib\\site-packages\\sklearn\\cluster\\_kmeans.py:1382: UserWarning: KMeans is known to have a memory leak on Windows with MKL, when there are less chunks than available threads. You can avoid it by setting the environment variable OMP_NUM_THREADS=2.\n",
      "  warnings.warn(\n",
      "C:\\ProgramData\\Anaconda3\\envs\\tf\\lib\\site-packages\\sklearn\\cluster\\_kmeans.py:1382: UserWarning: KMeans is known to have a memory leak on Windows with MKL, when there are less chunks than available threads. You can avoid it by setting the environment variable OMP_NUM_THREADS=2.\n",
      "  warnings.warn(\n",
      "C:\\ProgramData\\Anaconda3\\envs\\tf\\lib\\site-packages\\sklearn\\cluster\\_kmeans.py:1382: UserWarning: KMeans is known to have a memory leak on Windows with MKL, when there are less chunks than available threads. You can avoid it by setting the environment variable OMP_NUM_THREADS=2.\n",
      "  warnings.warn(\n",
      "C:\\ProgramData\\Anaconda3\\envs\\tf\\lib\\site-packages\\sklearn\\cluster\\_kmeans.py:1382: UserWarning: KMeans is known to have a memory leak on Windows with MKL, when there are less chunks than available threads. You can avoid it by setting the environment variable OMP_NUM_THREADS=2.\n",
      "  warnings.warn(\n",
      "C:\\ProgramData\\Anaconda3\\envs\\tf\\lib\\site-packages\\sklearn\\cluster\\_kmeans.py:1382: UserWarning: KMeans is known to have a memory leak on Windows with MKL, when there are less chunks than available threads. You can avoid it by setting the environment variable OMP_NUM_THREADS=2.\n",
      "  warnings.warn(\n",
      "C:\\ProgramData\\Anaconda3\\envs\\tf\\lib\\site-packages\\sklearn\\cluster\\_kmeans.py:1382: UserWarning: KMeans is known to have a memory leak on Windows with MKL, when there are less chunks than available threads. You can avoid it by setting the environment variable OMP_NUM_THREADS=2.\n",
      "  warnings.warn(\n",
      "C:\\ProgramData\\Anaconda3\\envs\\tf\\lib\\site-packages\\sklearn\\cluster\\_kmeans.py:1382: UserWarning: KMeans is known to have a memory leak on Windows with MKL, when there are less chunks than available threads. You can avoid it by setting the environment variable OMP_NUM_THREADS=2.\n",
      "  warnings.warn(\n",
      "C:\\ProgramData\\Anaconda3\\envs\\tf\\lib\\site-packages\\sklearn\\cluster\\_kmeans.py:1382: UserWarning: KMeans is known to have a memory leak on Windows with MKL, when there are less chunks than available threads. You can avoid it by setting the environment variable OMP_NUM_THREADS=2.\n",
      "  warnings.warn(\n",
      "C:\\ProgramData\\Anaconda3\\envs\\tf\\lib\\site-packages\\sklearn\\cluster\\_kmeans.py:1382: UserWarning: KMeans is known to have a memory leak on Windows with MKL, when there are less chunks than available threads. You can avoid it by setting the environment variable OMP_NUM_THREADS=2.\n",
      "  warnings.warn(\n",
      "C:\\ProgramData\\Anaconda3\\envs\\tf\\lib\\site-packages\\sklearn\\cluster\\_kmeans.py:1382: UserWarning: KMeans is known to have a memory leak on Windows with MKL, when there are less chunks than available threads. You can avoid it by setting the environment variable OMP_NUM_THREADS=2.\n",
      "  warnings.warn(\n",
      "C:\\ProgramData\\Anaconda3\\envs\\tf\\lib\\site-packages\\sklearn\\cluster\\_kmeans.py:1382: UserWarning: KMeans is known to have a memory leak on Windows with MKL, when there are less chunks than available threads. You can avoid it by setting the environment variable OMP_NUM_THREADS=2.\n",
      "  warnings.warn(\n",
      "C:\\ProgramData\\Anaconda3\\envs\\tf\\lib\\site-packages\\sklearn\\cluster\\_kmeans.py:1382: UserWarning: KMeans is known to have a memory leak on Windows with MKL, when there are less chunks than available threads. You can avoid it by setting the environment variable OMP_NUM_THREADS=2.\n",
      "  warnings.warn(\n",
      "C:\\ProgramData\\Anaconda3\\envs\\tf\\lib\\site-packages\\sklearn\\cluster\\_kmeans.py:1382: UserWarning: KMeans is known to have a memory leak on Windows with MKL, when there are less chunks than available threads. You can avoid it by setting the environment variable OMP_NUM_THREADS=2.\n",
      "  warnings.warn(\n",
      "C:\\ProgramData\\Anaconda3\\envs\\tf\\lib\\site-packages\\sklearn\\cluster\\_kmeans.py:1382: UserWarning: KMeans is known to have a memory leak on Windows with MKL, when there are less chunks than available threads. You can avoid it by setting the environment variable OMP_NUM_THREADS=2.\n",
      "  warnings.warn(\n",
      "C:\\ProgramData\\Anaconda3\\envs\\tf\\lib\\site-packages\\sklearn\\cluster\\_kmeans.py:1382: UserWarning: KMeans is known to have a memory leak on Windows with MKL, when there are less chunks than available threads. You can avoid it by setting the environment variable OMP_NUM_THREADS=2.\n",
      "  warnings.warn(\n",
      "C:\\ProgramData\\Anaconda3\\envs\\tf\\lib\\site-packages\\sklearn\\cluster\\_kmeans.py:1382: UserWarning: KMeans is known to have a memory leak on Windows with MKL, when there are less chunks than available threads. You can avoid it by setting the environment variable OMP_NUM_THREADS=2.\n",
      "  warnings.warn(\n",
      "C:\\ProgramData\\Anaconda3\\envs\\tf\\lib\\site-packages\\sklearn\\cluster\\_kmeans.py:1382: UserWarning: KMeans is known to have a memory leak on Windows with MKL, when there are less chunks than available threads. You can avoid it by setting the environment variable OMP_NUM_THREADS=2.\n",
      "  warnings.warn(\n",
      "C:\\ProgramData\\Anaconda3\\envs\\tf\\lib\\site-packages\\sklearn\\cluster\\_kmeans.py:1382: UserWarning: KMeans is known to have a memory leak on Windows with MKL, when there are less chunks than available threads. You can avoid it by setting the environment variable OMP_NUM_THREADS=2.\n",
      "  warnings.warn(\n",
      "C:\\ProgramData\\Anaconda3\\envs\\tf\\lib\\site-packages\\sklearn\\cluster\\_kmeans.py:1382: UserWarning: KMeans is known to have a memory leak on Windows with MKL, when there are less chunks than available threads. You can avoid it by setting the environment variable OMP_NUM_THREADS=2.\n",
      "  warnings.warn(\n",
      "C:\\ProgramData\\Anaconda3\\envs\\tf\\lib\\site-packages\\sklearn\\cluster\\_kmeans.py:1382: UserWarning: KMeans is known to have a memory leak on Windows with MKL, when there are less chunks than available threads. You can avoid it by setting the environment variable OMP_NUM_THREADS=2.\n",
      "  warnings.warn(\n",
      "C:\\ProgramData\\Anaconda3\\envs\\tf\\lib\\site-packages\\sklearn\\cluster\\_kmeans.py:1382: UserWarning: KMeans is known to have a memory leak on Windows with MKL, when there are less chunks than available threads. You can avoid it by setting the environment variable OMP_NUM_THREADS=2.\n",
      "  warnings.warn(\n"
     ]
    },
    {
     "name": "stderr",
     "output_type": "stream",
     "text": [
      "C:\\ProgramData\\Anaconda3\\envs\\tf\\lib\\site-packages\\sklearn\\cluster\\_kmeans.py:1382: UserWarning: KMeans is known to have a memory leak on Windows with MKL, when there are less chunks than available threads. You can avoid it by setting the environment variable OMP_NUM_THREADS=2.\n",
      "  warnings.warn(\n",
      "C:\\ProgramData\\Anaconda3\\envs\\tf\\lib\\site-packages\\sklearn\\cluster\\_kmeans.py:1382: UserWarning: KMeans is known to have a memory leak on Windows with MKL, when there are less chunks than available threads. You can avoid it by setting the environment variable OMP_NUM_THREADS=2.\n",
      "  warnings.warn(\n",
      "C:\\ProgramData\\Anaconda3\\envs\\tf\\lib\\site-packages\\sklearn\\cluster\\_kmeans.py:1382: UserWarning: KMeans is known to have a memory leak on Windows with MKL, when there are less chunks than available threads. You can avoid it by setting the environment variable OMP_NUM_THREADS=2.\n",
      "  warnings.warn(\n",
      "C:\\ProgramData\\Anaconda3\\envs\\tf\\lib\\site-packages\\sklearn\\cluster\\_kmeans.py:1382: UserWarning: KMeans is known to have a memory leak on Windows with MKL, when there are less chunks than available threads. You can avoid it by setting the environment variable OMP_NUM_THREADS=2.\n",
      "  warnings.warn(\n",
      "C:\\ProgramData\\Anaconda3\\envs\\tf\\lib\\site-packages\\sklearn\\cluster\\_kmeans.py:1382: UserWarning: KMeans is known to have a memory leak on Windows with MKL, when there are less chunks than available threads. You can avoid it by setting the environment variable OMP_NUM_THREADS=2.\n",
      "  warnings.warn(\n",
      "C:\\ProgramData\\Anaconda3\\envs\\tf\\lib\\site-packages\\sklearn\\cluster\\_kmeans.py:1382: UserWarning: KMeans is known to have a memory leak on Windows with MKL, when there are less chunks than available threads. You can avoid it by setting the environment variable OMP_NUM_THREADS=2.\n",
      "  warnings.warn(\n",
      "C:\\ProgramData\\Anaconda3\\envs\\tf\\lib\\site-packages\\sklearn\\cluster\\_kmeans.py:1382: UserWarning: KMeans is known to have a memory leak on Windows with MKL, when there are less chunks than available threads. You can avoid it by setting the environment variable OMP_NUM_THREADS=2.\n",
      "  warnings.warn(\n",
      "C:\\ProgramData\\Anaconda3\\envs\\tf\\lib\\site-packages\\sklearn\\cluster\\_kmeans.py:1382: UserWarning: KMeans is known to have a memory leak on Windows with MKL, when there are less chunks than available threads. You can avoid it by setting the environment variable OMP_NUM_THREADS=2.\n",
      "  warnings.warn(\n",
      "C:\\ProgramData\\Anaconda3\\envs\\tf\\lib\\site-packages\\sklearn\\cluster\\_kmeans.py:1382: UserWarning: KMeans is known to have a memory leak on Windows with MKL, when there are less chunks than available threads. You can avoid it by setting the environment variable OMP_NUM_THREADS=2.\n",
      "  warnings.warn(\n",
      "C:\\ProgramData\\Anaconda3\\envs\\tf\\lib\\site-packages\\sklearn\\cluster\\_kmeans.py:1382: UserWarning: KMeans is known to have a memory leak on Windows with MKL, when there are less chunks than available threads. You can avoid it by setting the environment variable OMP_NUM_THREADS=2.\n",
      "  warnings.warn(\n",
      "C:\\ProgramData\\Anaconda3\\envs\\tf\\lib\\site-packages\\sklearn\\cluster\\_kmeans.py:1382: UserWarning: KMeans is known to have a memory leak on Windows with MKL, when there are less chunks than available threads. You can avoid it by setting the environment variable OMP_NUM_THREADS=2.\n",
      "  warnings.warn(\n",
      "C:\\ProgramData\\Anaconda3\\envs\\tf\\lib\\site-packages\\sklearn\\cluster\\_kmeans.py:1382: UserWarning: KMeans is known to have a memory leak on Windows with MKL, when there are less chunks than available threads. You can avoid it by setting the environment variable OMP_NUM_THREADS=2.\n",
      "  warnings.warn(\n",
      "C:\\ProgramData\\Anaconda3\\envs\\tf\\lib\\site-packages\\sklearn\\cluster\\_kmeans.py:1382: UserWarning: KMeans is known to have a memory leak on Windows with MKL, when there are less chunks than available threads. You can avoid it by setting the environment variable OMP_NUM_THREADS=2.\n",
      "  warnings.warn(\n",
      "C:\\ProgramData\\Anaconda3\\envs\\tf\\lib\\site-packages\\sklearn\\cluster\\_kmeans.py:1382: UserWarning: KMeans is known to have a memory leak on Windows with MKL, when there are less chunks than available threads. You can avoid it by setting the environment variable OMP_NUM_THREADS=2.\n",
      "  warnings.warn(\n",
      "C:\\ProgramData\\Anaconda3\\envs\\tf\\lib\\site-packages\\sklearn\\cluster\\_kmeans.py:1382: UserWarning: KMeans is known to have a memory leak on Windows with MKL, when there are less chunks than available threads. You can avoid it by setting the environment variable OMP_NUM_THREADS=2.\n",
      "  warnings.warn(\n",
      "C:\\ProgramData\\Anaconda3\\envs\\tf\\lib\\site-packages\\sklearn\\cluster\\_kmeans.py:1382: UserWarning: KMeans is known to have a memory leak on Windows with MKL, when there are less chunks than available threads. You can avoid it by setting the environment variable OMP_NUM_THREADS=2.\n",
      "  warnings.warn(\n",
      "C:\\ProgramData\\Anaconda3\\envs\\tf\\lib\\site-packages\\sklearn\\cluster\\_kmeans.py:1382: UserWarning: KMeans is known to have a memory leak on Windows with MKL, when there are less chunks than available threads. You can avoid it by setting the environment variable OMP_NUM_THREADS=2.\n",
      "  warnings.warn(\n",
      "C:\\ProgramData\\Anaconda3\\envs\\tf\\lib\\site-packages\\sklearn\\cluster\\_kmeans.py:1382: UserWarning: KMeans is known to have a memory leak on Windows with MKL, when there are less chunks than available threads. You can avoid it by setting the environment variable OMP_NUM_THREADS=2.\n",
      "  warnings.warn(\n",
      "C:\\ProgramData\\Anaconda3\\envs\\tf\\lib\\site-packages\\sklearn\\cluster\\_kmeans.py:1382: UserWarning: KMeans is known to have a memory leak on Windows with MKL, when there are less chunks than available threads. You can avoid it by setting the environment variable OMP_NUM_THREADS=2.\n",
      "  warnings.warn(\n",
      "C:\\ProgramData\\Anaconda3\\envs\\tf\\lib\\site-packages\\sklearn\\cluster\\_kmeans.py:1382: UserWarning: KMeans is known to have a memory leak on Windows with MKL, when there are less chunks than available threads. You can avoid it by setting the environment variable OMP_NUM_THREADS=2.\n",
      "  warnings.warn(\n",
      "C:\\ProgramData\\Anaconda3\\envs\\tf\\lib\\site-packages\\sklearn\\cluster\\_kmeans.py:1382: UserWarning: KMeans is known to have a memory leak on Windows with MKL, when there are less chunks than available threads. You can avoid it by setting the environment variable OMP_NUM_THREADS=2.\n",
      "  warnings.warn(\n",
      "C:\\ProgramData\\Anaconda3\\envs\\tf\\lib\\site-packages\\sklearn\\cluster\\_kmeans.py:1382: UserWarning: KMeans is known to have a memory leak on Windows with MKL, when there are less chunks than available threads. You can avoid it by setting the environment variable OMP_NUM_THREADS=2.\n",
      "  warnings.warn(\n",
      "C:\\ProgramData\\Anaconda3\\envs\\tf\\lib\\site-packages\\sklearn\\cluster\\_kmeans.py:1382: UserWarning: KMeans is known to have a memory leak on Windows with MKL, when there are less chunks than available threads. You can avoid it by setting the environment variable OMP_NUM_THREADS=2.\n",
      "  warnings.warn(\n",
      "C:\\ProgramData\\Anaconda3\\envs\\tf\\lib\\site-packages\\sklearn\\cluster\\_kmeans.py:1382: UserWarning: KMeans is known to have a memory leak on Windows with MKL, when there are less chunks than available threads. You can avoid it by setting the environment variable OMP_NUM_THREADS=2.\n",
      "  warnings.warn(\n",
      "C:\\ProgramData\\Anaconda3\\envs\\tf\\lib\\site-packages\\sklearn\\cluster\\_kmeans.py:1382: UserWarning: KMeans is known to have a memory leak on Windows with MKL, when there are less chunks than available threads. You can avoid it by setting the environment variable OMP_NUM_THREADS=2.\n",
      "  warnings.warn(\n",
      "C:\\ProgramData\\Anaconda3\\envs\\tf\\lib\\site-packages\\sklearn\\cluster\\_kmeans.py:1382: UserWarning: KMeans is known to have a memory leak on Windows with MKL, when there are less chunks than available threads. You can avoid it by setting the environment variable OMP_NUM_THREADS=2.\n",
      "  warnings.warn(\n",
      "C:\\ProgramData\\Anaconda3\\envs\\tf\\lib\\site-packages\\sklearn\\cluster\\_kmeans.py:1382: UserWarning: KMeans is known to have a memory leak on Windows with MKL, when there are less chunks than available threads. You can avoid it by setting the environment variable OMP_NUM_THREADS=2.\n",
      "  warnings.warn(\n",
      "C:\\ProgramData\\Anaconda3\\envs\\tf\\lib\\site-packages\\sklearn\\cluster\\_kmeans.py:1382: UserWarning: KMeans is known to have a memory leak on Windows with MKL, when there are less chunks than available threads. You can avoid it by setting the environment variable OMP_NUM_THREADS=2.\n",
      "  warnings.warn(\n"
     ]
    },
    {
     "name": "stderr",
     "output_type": "stream",
     "text": [
      "C:\\ProgramData\\Anaconda3\\envs\\tf\\lib\\site-packages\\sklearn\\cluster\\_kmeans.py:1382: UserWarning: KMeans is known to have a memory leak on Windows with MKL, when there are less chunks than available threads. You can avoid it by setting the environment variable OMP_NUM_THREADS=2.\n",
      "  warnings.warn(\n",
      "C:\\ProgramData\\Anaconda3\\envs\\tf\\lib\\site-packages\\sklearn\\cluster\\_kmeans.py:1382: UserWarning: KMeans is known to have a memory leak on Windows with MKL, when there are less chunks than available threads. You can avoid it by setting the environment variable OMP_NUM_THREADS=2.\n",
      "  warnings.warn(\n",
      "C:\\ProgramData\\Anaconda3\\envs\\tf\\lib\\site-packages\\sklearn\\cluster\\_kmeans.py:1382: UserWarning: KMeans is known to have a memory leak on Windows with MKL, when there are less chunks than available threads. You can avoid it by setting the environment variable OMP_NUM_THREADS=2.\n",
      "  warnings.warn(\n",
      "C:\\ProgramData\\Anaconda3\\envs\\tf\\lib\\site-packages\\sklearn\\cluster\\_kmeans.py:1382: UserWarning: KMeans is known to have a memory leak on Windows with MKL, when there are less chunks than available threads. You can avoid it by setting the environment variable OMP_NUM_THREADS=2.\n",
      "  warnings.warn(\n",
      "C:\\ProgramData\\Anaconda3\\envs\\tf\\lib\\site-packages\\sklearn\\cluster\\_kmeans.py:1382: UserWarning: KMeans is known to have a memory leak on Windows with MKL, when there are less chunks than available threads. You can avoid it by setting the environment variable OMP_NUM_THREADS=2.\n",
      "  warnings.warn(\n",
      "C:\\ProgramData\\Anaconda3\\envs\\tf\\lib\\site-packages\\sklearn\\cluster\\_kmeans.py:1382: UserWarning: KMeans is known to have a memory leak on Windows with MKL, when there are less chunks than available threads. You can avoid it by setting the environment variable OMP_NUM_THREADS=2.\n",
      "  warnings.warn(\n",
      "C:\\ProgramData\\Anaconda3\\envs\\tf\\lib\\site-packages\\sklearn\\cluster\\_kmeans.py:1382: UserWarning: KMeans is known to have a memory leak on Windows with MKL, when there are less chunks than available threads. You can avoid it by setting the environment variable OMP_NUM_THREADS=2.\n",
      "  warnings.warn(\n",
      "C:\\ProgramData\\Anaconda3\\envs\\tf\\lib\\site-packages\\sklearn\\cluster\\_kmeans.py:1382: UserWarning: KMeans is known to have a memory leak on Windows with MKL, when there are less chunks than available threads. You can avoid it by setting the environment variable OMP_NUM_THREADS=2.\n",
      "  warnings.warn(\n",
      "C:\\ProgramData\\Anaconda3\\envs\\tf\\lib\\site-packages\\sklearn\\cluster\\_kmeans.py:1382: UserWarning: KMeans is known to have a memory leak on Windows with MKL, when there are less chunks than available threads. You can avoid it by setting the environment variable OMP_NUM_THREADS=2.\n",
      "  warnings.warn(\n",
      "C:\\ProgramData\\Anaconda3\\envs\\tf\\lib\\site-packages\\sklearn\\cluster\\_kmeans.py:1382: UserWarning: KMeans is known to have a memory leak on Windows with MKL, when there are less chunks than available threads. You can avoid it by setting the environment variable OMP_NUM_THREADS=2.\n",
      "  warnings.warn(\n",
      "C:\\ProgramData\\Anaconda3\\envs\\tf\\lib\\site-packages\\sklearn\\cluster\\_kmeans.py:1382: UserWarning: KMeans is known to have a memory leak on Windows with MKL, when there are less chunks than available threads. You can avoid it by setting the environment variable OMP_NUM_THREADS=2.\n",
      "  warnings.warn(\n",
      "C:\\ProgramData\\Anaconda3\\envs\\tf\\lib\\site-packages\\sklearn\\cluster\\_kmeans.py:1382: UserWarning: KMeans is known to have a memory leak on Windows with MKL, when there are less chunks than available threads. You can avoid it by setting the environment variable OMP_NUM_THREADS=2.\n",
      "  warnings.warn(\n",
      "C:\\ProgramData\\Anaconda3\\envs\\tf\\lib\\site-packages\\sklearn\\cluster\\_kmeans.py:1382: UserWarning: KMeans is known to have a memory leak on Windows with MKL, when there are less chunks than available threads. You can avoid it by setting the environment variable OMP_NUM_THREADS=2.\n",
      "  warnings.warn(\n",
      "C:\\ProgramData\\Anaconda3\\envs\\tf\\lib\\site-packages\\sklearn\\cluster\\_kmeans.py:1382: UserWarning: KMeans is known to have a memory leak on Windows with MKL, when there are less chunks than available threads. You can avoid it by setting the environment variable OMP_NUM_THREADS=2.\n",
      "  warnings.warn(\n",
      "C:\\ProgramData\\Anaconda3\\envs\\tf\\lib\\site-packages\\sklearn\\cluster\\_kmeans.py:1382: UserWarning: KMeans is known to have a memory leak on Windows with MKL, when there are less chunks than available threads. You can avoid it by setting the environment variable OMP_NUM_THREADS=2.\n",
      "  warnings.warn(\n",
      "C:\\ProgramData\\Anaconda3\\envs\\tf\\lib\\site-packages\\sklearn\\cluster\\_kmeans.py:1382: UserWarning: KMeans is known to have a memory leak on Windows with MKL, when there are less chunks than available threads. You can avoid it by setting the environment variable OMP_NUM_THREADS=2.\n",
      "  warnings.warn(\n",
      "C:\\ProgramData\\Anaconda3\\envs\\tf\\lib\\site-packages\\sklearn\\cluster\\_kmeans.py:1382: UserWarning: KMeans is known to have a memory leak on Windows with MKL, when there are less chunks than available threads. You can avoid it by setting the environment variable OMP_NUM_THREADS=2.\n",
      "  warnings.warn(\n",
      "C:\\ProgramData\\Anaconda3\\envs\\tf\\lib\\site-packages\\sklearn\\cluster\\_kmeans.py:1382: UserWarning: KMeans is known to have a memory leak on Windows with MKL, when there are less chunks than available threads. You can avoid it by setting the environment variable OMP_NUM_THREADS=2.\n",
      "  warnings.warn(\n",
      "C:\\ProgramData\\Anaconda3\\envs\\tf\\lib\\site-packages\\sklearn\\cluster\\_kmeans.py:1382: UserWarning: KMeans is known to have a memory leak on Windows with MKL, when there are less chunks than available threads. You can avoid it by setting the environment variable OMP_NUM_THREADS=2.\n",
      "  warnings.warn(\n",
      "C:\\ProgramData\\Anaconda3\\envs\\tf\\lib\\site-packages\\sklearn\\cluster\\_kmeans.py:1382: UserWarning: KMeans is known to have a memory leak on Windows with MKL, when there are less chunks than available threads. You can avoid it by setting the environment variable OMP_NUM_THREADS=2.\n",
      "  warnings.warn(\n",
      "C:\\ProgramData\\Anaconda3\\envs\\tf\\lib\\site-packages\\sklearn\\cluster\\_kmeans.py:1382: UserWarning: KMeans is known to have a memory leak on Windows with MKL, when there are less chunks than available threads. You can avoid it by setting the environment variable OMP_NUM_THREADS=2.\n",
      "  warnings.warn(\n",
      "C:\\ProgramData\\Anaconda3\\envs\\tf\\lib\\site-packages\\sklearn\\cluster\\_kmeans.py:1382: UserWarning: KMeans is known to have a memory leak on Windows with MKL, when there are less chunks than available threads. You can avoid it by setting the environment variable OMP_NUM_THREADS=2.\n",
      "  warnings.warn(\n",
      "C:\\ProgramData\\Anaconda3\\envs\\tf\\lib\\site-packages\\sklearn\\cluster\\_kmeans.py:1382: UserWarning: KMeans is known to have a memory leak on Windows with MKL, when there are less chunks than available threads. You can avoid it by setting the environment variable OMP_NUM_THREADS=2.\n",
      "  warnings.warn(\n",
      "C:\\ProgramData\\Anaconda3\\envs\\tf\\lib\\site-packages\\sklearn\\cluster\\_kmeans.py:1382: UserWarning: KMeans is known to have a memory leak on Windows with MKL, when there are less chunks than available threads. You can avoid it by setting the environment variable OMP_NUM_THREADS=2.\n",
      "  warnings.warn(\n",
      "C:\\ProgramData\\Anaconda3\\envs\\tf\\lib\\site-packages\\sklearn\\cluster\\_kmeans.py:1382: UserWarning: KMeans is known to have a memory leak on Windows with MKL, when there are less chunks than available threads. You can avoid it by setting the environment variable OMP_NUM_THREADS=2.\n",
      "  warnings.warn(\n",
      "C:\\ProgramData\\Anaconda3\\envs\\tf\\lib\\site-packages\\sklearn\\cluster\\_kmeans.py:1382: UserWarning: KMeans is known to have a memory leak on Windows with MKL, when there are less chunks than available threads. You can avoid it by setting the environment variable OMP_NUM_THREADS=2.\n",
      "  warnings.warn(\n",
      "C:\\ProgramData\\Anaconda3\\envs\\tf\\lib\\site-packages\\sklearn\\cluster\\_kmeans.py:1382: UserWarning: KMeans is known to have a memory leak on Windows with MKL, when there are less chunks than available threads. You can avoid it by setting the environment variable OMP_NUM_THREADS=2.\n",
      "  warnings.warn(\n",
      "C:\\ProgramData\\Anaconda3\\envs\\tf\\lib\\site-packages\\sklearn\\cluster\\_kmeans.py:1382: UserWarning: KMeans is known to have a memory leak on Windows with MKL, when there are less chunks than available threads. You can avoid it by setting the environment variable OMP_NUM_THREADS=2.\n",
      "  warnings.warn(\n"
     ]
    },
    {
     "name": "stderr",
     "output_type": "stream",
     "text": [
      "C:\\ProgramData\\Anaconda3\\envs\\tf\\lib\\site-packages\\sklearn\\cluster\\_kmeans.py:1382: UserWarning: KMeans is known to have a memory leak on Windows with MKL, when there are less chunks than available threads. You can avoid it by setting the environment variable OMP_NUM_THREADS=2.\n",
      "  warnings.warn(\n",
      "C:\\ProgramData\\Anaconda3\\envs\\tf\\lib\\site-packages\\sklearn\\cluster\\_kmeans.py:1382: UserWarning: KMeans is known to have a memory leak on Windows with MKL, when there are less chunks than available threads. You can avoid it by setting the environment variable OMP_NUM_THREADS=2.\n",
      "  warnings.warn(\n",
      "C:\\ProgramData\\Anaconda3\\envs\\tf\\lib\\site-packages\\sklearn\\cluster\\_kmeans.py:1382: UserWarning: KMeans is known to have a memory leak on Windows with MKL, when there are less chunks than available threads. You can avoid it by setting the environment variable OMP_NUM_THREADS=2.\n",
      "  warnings.warn(\n",
      "C:\\ProgramData\\Anaconda3\\envs\\tf\\lib\\site-packages\\sklearn\\cluster\\_kmeans.py:1382: UserWarning: KMeans is known to have a memory leak on Windows with MKL, when there are less chunks than available threads. You can avoid it by setting the environment variable OMP_NUM_THREADS=2.\n",
      "  warnings.warn(\n",
      "C:\\ProgramData\\Anaconda3\\envs\\tf\\lib\\site-packages\\sklearn\\cluster\\_kmeans.py:1382: UserWarning: KMeans is known to have a memory leak on Windows with MKL, when there are less chunks than available threads. You can avoid it by setting the environment variable OMP_NUM_THREADS=2.\n",
      "  warnings.warn(\n",
      "C:\\ProgramData\\Anaconda3\\envs\\tf\\lib\\site-packages\\sklearn\\cluster\\_kmeans.py:1382: UserWarning: KMeans is known to have a memory leak on Windows with MKL, when there are less chunks than available threads. You can avoid it by setting the environment variable OMP_NUM_THREADS=2.\n",
      "  warnings.warn(\n"
     ]
    }
   ],
   "source": [
    "# find optimal number of clusters\n",
    "\n",
    "test_score_list2 = []\n",
    "bic_list2 = []\n",
    "# loop over different train test splits\n",
    "for k in range(0,10):\n",
    "    post_tr,post_te = train_test_split(post_array_off_forw, test_size = 0.2, train_size = 0.8, random_state = k)\n",
    "    # loop over random states\n",
    "\n",
    "    cluster_scores = []\n",
    "    bics=[]\n",
    "    for i in range(2,11):\n",
    "        gm = GaussianMixture(n_components=i, random_state=i)\n",
    "        gm.fit(post_tr)\n",
    "        # likelihood of test data\n",
    "        cluster_scores.append(m.e**(gm.score(post_te)))\n",
    "        bics.append(gm.bic(post_te))\n",
    "    test_score_list2.append(cluster_scores)\n",
    "    bic_list2.append(bics)"
   ]
  },
  {
   "cell_type": "code",
   "execution_count": 37,
   "id": "1bd6f2ff",
   "metadata": {},
   "outputs": [
    {
     "data": {
      "text/plain": [
       "array([0.00046614, 0.00052959, 0.00054482, 0.00053846, 0.00054573,\n",
       "       0.00053076, 0.00051293, 0.00049671, 0.0004795 ])"
      ]
     },
     "execution_count": 37,
     "metadata": {},
     "output_type": "execute_result"
    }
   ],
   "source": [
    "avg_likeli2 = np.array(test_score_list2).mean(axis = 0)\n",
    "avg_likeli2"
   ]
  },
  {
   "cell_type": "code",
   "execution_count": 40,
   "id": "532af92a",
   "metadata": {
    "scrolled": true
   },
   "outputs": [
    {
     "name": "stderr",
     "output_type": "stream",
     "text": [
      "C:\\ProgramData\\Anaconda3\\envs\\tf\\lib\\site-packages\\sklearn\\cluster\\_kmeans.py:1382: UserWarning: KMeans is known to have a memory leak on Windows with MKL, when there are less chunks than available threads. You can avoid it by setting the environment variable OMP_NUM_THREADS=3.\n",
      "  warnings.warn(\n",
      "C:\\ProgramData\\Anaconda3\\envs\\tf\\lib\\site-packages\\sklearn\\cluster\\_kmeans.py:1382: UserWarning: KMeans is known to have a memory leak on Windows with MKL, when there are less chunks than available threads. You can avoid it by setting the environment variable OMP_NUM_THREADS=3.\n",
      "  warnings.warn(\n",
      "C:\\ProgramData\\Anaconda3\\envs\\tf\\lib\\site-packages\\sklearn\\cluster\\_kmeans.py:1382: UserWarning: KMeans is known to have a memory leak on Windows with MKL, when there are less chunks than available threads. You can avoid it by setting the environment variable OMP_NUM_THREADS=3.\n",
      "  warnings.warn(\n",
      "C:\\ProgramData\\Anaconda3\\envs\\tf\\lib\\site-packages\\sklearn\\cluster\\_kmeans.py:1382: UserWarning: KMeans is known to have a memory leak on Windows with MKL, when there are less chunks than available threads. You can avoid it by setting the environment variable OMP_NUM_THREADS=3.\n",
      "  warnings.warn(\n",
      "C:\\ProgramData\\Anaconda3\\envs\\tf\\lib\\site-packages\\sklearn\\cluster\\_kmeans.py:1382: UserWarning: KMeans is known to have a memory leak on Windows with MKL, when there are less chunks than available threads. You can avoid it by setting the environment variable OMP_NUM_THREADS=3.\n",
      "  warnings.warn(\n",
      "C:\\ProgramData\\Anaconda3\\envs\\tf\\lib\\site-packages\\sklearn\\cluster\\_kmeans.py:1382: UserWarning: KMeans is known to have a memory leak on Windows with MKL, when there are less chunks than available threads. You can avoid it by setting the environment variable OMP_NUM_THREADS=3.\n",
      "  warnings.warn(\n",
      "C:\\ProgramData\\Anaconda3\\envs\\tf\\lib\\site-packages\\sklearn\\cluster\\_kmeans.py:1382: UserWarning: KMeans is known to have a memory leak on Windows with MKL, when there are less chunks than available threads. You can avoid it by setting the environment variable OMP_NUM_THREADS=3.\n",
      "  warnings.warn(\n",
      "C:\\ProgramData\\Anaconda3\\envs\\tf\\lib\\site-packages\\sklearn\\cluster\\_kmeans.py:1382: UserWarning: KMeans is known to have a memory leak on Windows with MKL, when there are less chunks than available threads. You can avoid it by setting the environment variable OMP_NUM_THREADS=3.\n",
      "  warnings.warn(\n",
      "C:\\ProgramData\\Anaconda3\\envs\\tf\\lib\\site-packages\\sklearn\\cluster\\_kmeans.py:1382: UserWarning: KMeans is known to have a memory leak on Windows with MKL, when there are less chunks than available threads. You can avoid it by setting the environment variable OMP_NUM_THREADS=3.\n",
      "  warnings.warn(\n"
     ]
    }
   ],
   "source": [
    "cluster_scores2 = []\n",
    "bics2=[]\n",
    "for j in range(2,11):\n",
    "    # loop over number of clusters\n",
    "    \n",
    "    gm = GaussianMixture(n_components=j, random_state=j)\n",
    "    gm.fit(post_array_off_forw)\n",
    "    # likelihood of test data\n",
    "    cluster_scores2.append(m.e**(gm.score(post_array_off_forw)))\n",
    "    bics2.append(gm.bic(post_array_off_forw))"
   ]
  },
  {
   "cell_type": "code",
   "execution_count": 41,
   "id": "e6629986",
   "metadata": {},
   "outputs": [
    {
     "data": {
      "text/plain": [
       "[9704.40152091802,\n",
       " 9571.455869033633,\n",
       " 9581.476099450627,\n",
       " 9635.954241709624,\n",
       " 9697.09836250684,\n",
       " 9774.335600340055,\n",
       " 9866.090407887812,\n",
       " 9912.760593590434,\n",
       " 9962.299626952186]"
      ]
     },
     "execution_count": 41,
     "metadata": {},
     "output_type": "execute_result"
    }
   ],
   "source": [
    "bics2"
   ]
  },
  {
   "cell_type": "markdown",
   "id": "40d70e35",
   "metadata": {},
   "source": [
    "## 5. Standardize Data for first three seasons"
   ]
  },
  {
   "cell_type": "code",
   "execution_count": 42,
   "id": "6c5268e5",
   "metadata": {},
   "outputs": [],
   "source": [
    "# make sure set of players in first three seasons data and after first three seasons data is the same\n",
    "final_pre_data_tf = pd.merge(post_final['ilkid'],final_pre_data, on='ilkid', how='left').reset_index()"
   ]
  },
  {
   "cell_type": "code",
   "execution_count": 43,
   "id": "335b9535",
   "metadata": {},
   "outputs": [
    {
     "name": "stdout",
     "output_type": "stream",
     "text": [
      "(412, 50)\n",
      "(622, 50)\n"
     ]
    }
   ],
   "source": [
    "final_pre_data_guard = final_pre_data_tf[final_pre_data_tf.apply(lambda x: (x['position'] == 'G'), axis=1)].copy()\n",
    "print(final_pre_data_guard.shape)\n",
    "final_pre_data_forw = final_pre_data_tf[final_pre_data_tf.apply(lambda x: (x['position'] != 'G'), axis=1)].copy()\n",
    "print(final_pre_data_forw.shape)"
   ]
  },
  {
   "cell_type": "code",
   "execution_count": 44,
   "id": "7d5753a7",
   "metadata": {},
   "outputs": [],
   "source": [
    "# filter to variables to use for prediction\n",
    "# dont use three point data\n",
    "\n",
    "final_pre_data_guard_tf = final_pre_data_guard[['asts_pg1', 'asts_pg2', 'asts_pg3',\n",
    " 'blk_pg1', 'blk_pg2', 'blk_pg3',\n",
    " 'fg_pct1', 'fg_pct2', 'fg_pct3',\n",
    " 'ft_pct1', 'ft_pct2', 'ft_pct3',\n",
    " 'gp1', 'gp2', 'gp3',\n",
    " 'minutes_pg1', 'minutes_pg2', 'minutes_pg3',\n",
    " 'pf_pg1', 'pf_pg2', 'pf_pg3',\n",
    " 'pts_pg1', 'pts_pg2', 'pts_pg3',\n",
    " 'reb_pg1', 'reb_pg2', 'reb_pg3',\n",
    " 'stl_pg1', 'stl_pg2', 'stl_pg3',\n",
    " 'turnover_pg1', 'turnover_pg2', 'turnover_pg3']].to_numpy()"
   ]
  },
  {
   "cell_type": "code",
   "execution_count": 45,
   "id": "7610f90e",
   "metadata": {},
   "outputs": [],
   "source": [
    "# split guards and standardize\n",
    "pre_tr_guard,pre_te_guard, clust_tr_guard, clust_te_guard = train_test_split(final_pre_data_guard_tf, \\\n",
    "                    clusters_guard, test_size = 0.3, train_size = 0.7, random_state = 2)\n",
    "\n",
    "scaler_guard = StandardScaler()\n",
    "scaler_guard.fit(pre_tr_guard)\n",
    "\n",
    "pre_tr_guard = scaler_guard.transform(pre_tr_guard)\n",
    "\n",
    "pre_te_guard = scaler_guard.transform(pre_te_guard)"
   ]
  },
  {
   "cell_type": "code",
   "execution_count": 46,
   "id": "468ee504",
   "metadata": {},
   "outputs": [],
   "source": [
    "# filter to variables to use for prediction\n",
    "# dont use three point data\n",
    "\n",
    "final_pre_data_forw_tf = final_pre_data_forw[['asts_pg1', 'asts_pg2', 'asts_pg3',\n",
    " 'blk_pg1', 'blk_pg2', 'blk_pg3',\n",
    " 'fg_pct1', 'fg_pct2', 'fg_pct3',\n",
    " 'ft_pct1', 'ft_pct2', 'ft_pct3',\n",
    " 'gp1', 'gp2', 'gp3',\n",
    " 'minutes_pg1', 'minutes_pg2', 'minutes_pg3',\n",
    " 'pf_pg1', 'pf_pg2', 'pf_pg3',\n",
    " 'pts_pg1', 'pts_pg2', 'pts_pg3',\n",
    " 'reb_pg1', 'reb_pg2', 'reb_pg3',\n",
    " 'stl_pg1', 'stl_pg2', 'stl_pg3',\n",
    " 'turnover_pg1', 'turnover_pg2', 'turnover_pg3']].to_numpy()"
   ]
  },
  {
   "cell_type": "code",
   "execution_count": 400,
   "id": "2e464880",
   "metadata": {},
   "outputs": [],
   "source": [
    "#len(clusters_forw)"
   ]
  },
  {
   "cell_type": "code",
   "execution_count": 399,
   "id": "559a7cfe",
   "metadata": {},
   "outputs": [],
   "source": [
    "#final_pre_data_forw.head()"
   ]
  },
  {
   "cell_type": "code",
   "execution_count": 47,
   "id": "cac57bed",
   "metadata": {},
   "outputs": [],
   "source": [
    "# split forws and standardize\n",
    "pre_tr_forw, pre_te_forw, clust_tr_forw, clust_te_forw = train_test_split(final_pre_data_forw_tf, \\\n",
    "                    clusters_forw, test_size = 0.3, train_size = 0.7, random_state = 2)\n",
    "\n",
    "scaler_forw = StandardScaler()\n",
    "scaler_forw.fit(pre_tr_forw)\n",
    "\n",
    "pre_tr_forw = scaler_forw.transform(pre_tr_forw)\n",
    "\n",
    "pre_te_forw = scaler_forw.transform(pre_te_forw)"
   ]
  },
  {
   "cell_type": "code",
   "execution_count": 401,
   "id": "91898a01",
   "metadata": {},
   "outputs": [],
   "source": [
    "#len(final_pre_data_forw_tf.columns)"
   ]
  },
  {
   "cell_type": "markdown",
   "id": "f19a46ec",
   "metadata": {},
   "source": [
    "## 6. Tensorflow - Neural Networks"
   ]
  },
  {
   "cell_type": "markdown",
   "id": "e92e72d9",
   "metadata": {},
   "source": [
    "### Fitting and Predicting for Guards \n",
    "#### Testing different layers"
   ]
  },
  {
   "cell_type": "code",
   "execution_count": 355,
   "id": "c1d294f1",
   "metadata": {},
   "outputs": [
    {
     "name": "stdout",
     "output_type": "stream",
     "text": [
      "4/4 [==============================] - 0s 6ms/step\n",
      "Model: \"sequential_100\"\n",
      "_________________________________________________________________\n",
      " Layer (type)                Output Shape              Param #   \n",
      "=================================================================\n",
      " flatten_100 (Flatten)       (None, 33)                0         \n",
      "                                                                 \n",
      " dense_200 (Dense)           (None, 3)                 102       \n",
      "                                                                 \n",
      " dropout_100 (Dropout)       (None, 3)                 0         \n",
      "                                                                 \n",
      " dense_201 (Dense)           (None, 3)                 12        \n",
      "                                                                 \n",
      "=================================================================\n",
      "Total params: 114 (456.00 Byte)\n",
      "Trainable params: 114 (456.00 Byte)\n",
      "Non-trainable params: 0 (0.00 Byte)\n",
      "_________________________________________________________________\n",
      "None\n"
     ]
    },
    {
     "data": {
      "text/plain": [
       "0.5967741935483871"
      ]
     },
     "execution_count": 355,
     "metadata": {},
     "output_type": "execute_result"
    }
   ],
   "source": [
    "## 3\n",
    "model_guard3 = Sequential()\n",
    "model_guard3.add(Flatten(input_shape=(pre_tr_guard.shape[1],)))\n",
    "model_guard3.add(Dense(3, activation='relu'))\n",
    "model_guard3.add(Dropout(0.3))\n",
    "model_guard3.add(Dense(3, activation='softmax'))\n",
    "model_guard3.compile(optimizer='sgd', loss='sparse_categorical_crossentropy', metrics=['accuracy'])\n",
    "history_guard3 = model_guard3.fit(pre_tr_guard, clust_tr_guard, batch_size=50, epochs=50 ,verbose=0)\n",
    "predictions_guard3 = model_guard3.predict(pre_te_guard)\n",
    "\n",
    "max_prob_indices_guard3 = predictions_guard3.argmax(axis = 1)\n",
    "conf_matrix_guard3 = confusion_matrix(clust_te_guard, max_prob_indices_guard3)\n",
    "print(model_guard3.summary())\n",
    "np.trace(conf_matrix_guard3)/len(clust_te_guard)"
   ]
  },
  {
   "cell_type": "code",
   "execution_count": 354,
   "id": "f1a9ed80",
   "metadata": {},
   "outputs": [
    {
     "name": "stdout",
     "output_type": "stream",
     "text": [
      "4/4 [==============================] - 0s 5ms/step\n",
      "Model: \"sequential_99\"\n",
      "_________________________________________________________________\n",
      " Layer (type)                Output Shape              Param #   \n",
      "=================================================================\n",
      " flatten_99 (Flatten)        (None, 33)                0         \n",
      "                                                                 \n",
      " dense_198 (Dense)           (None, 4)                 136       \n",
      "                                                                 \n",
      " dropout_99 (Dropout)        (None, 4)                 0         \n",
      "                                                                 \n",
      " dense_199 (Dense)           (None, 3)                 15        \n",
      "                                                                 \n",
      "=================================================================\n",
      "Total params: 151 (604.00 Byte)\n",
      "Trainable params: 151 (604.00 Byte)\n",
      "Non-trainable params: 0 (0.00 Byte)\n",
      "_________________________________________________________________\n",
      "None\n"
     ]
    },
    {
     "data": {
      "text/plain": [
       "0.5887096774193549"
      ]
     },
     "execution_count": 354,
     "metadata": {},
     "output_type": "execute_result"
    }
   ],
   "source": [
    "## 4\n",
    "model_guard4 = Sequential()\n",
    "model_guard4.add(Flatten(input_shape=(pre_tr_guard.shape[1],)))\n",
    "model_guard4.add(Dense(4, activation='relu'))\n",
    "model_guard4.add(Dropout(0.3))\n",
    "model_guard4.add(Dense(3, activation='softmax'))\n",
    "model_guard4.compile(optimizer='sgd', loss='sparse_categorical_crossentropy', metrics=['accuracy'])\n",
    "history_guard4 = model_guard4.fit(pre_tr_guard, clust_tr_guard, batch_size=50, epochs=50 ,verbose=0)\n",
    "predictions_guard4 = model_guard4.predict(pre_te_guard)\n",
    "\n",
    "max_prob_indices_guard4 = predictions_guard4.argmax(axis = 1)\n",
    "conf_matrix_guard4 = confusion_matrix(clust_te_guard, max_prob_indices_guard4)\n",
    "print(model_guard4.summary())\n",
    "np.trace(conf_matrix_guard4)/len(clust_te_guard)"
   ]
  },
  {
   "cell_type": "code",
   "execution_count": 364,
   "id": "6bb3270b",
   "metadata": {},
   "outputs": [
    {
     "name": "stdout",
     "output_type": "stream",
     "text": [
      "4/4 [==============================] - 0s 3ms/step\n",
      "Model: \"sequential_106\"\n",
      "_________________________________________________________________\n",
      " Layer (type)                Output Shape              Param #   \n",
      "=================================================================\n",
      " flatten_106 (Flatten)       (None, 33)                0         \n",
      "                                                                 \n",
      " dense_212 (Dense)           (None, 5)                 170       \n",
      "                                                                 \n",
      " dropout_106 (Dropout)       (None, 5)                 0         \n",
      "                                                                 \n",
      " dense_213 (Dense)           (None, 3)                 18        \n",
      "                                                                 \n",
      "=================================================================\n",
      "Total params: 188 (752.00 Byte)\n",
      "Trainable params: 188 (752.00 Byte)\n",
      "Non-trainable params: 0 (0.00 Byte)\n",
      "_________________________________________________________________\n",
      "None\n"
     ]
    },
    {
     "data": {
      "text/plain": [
       "0.6290322580645161"
      ]
     },
     "execution_count": 364,
     "metadata": {},
     "output_type": "execute_result"
    }
   ],
   "source": [
    "## 5\n",
    "model_guard5 = Sequential()\n",
    "model_guard5.add(Flatten(input_shape=(pre_tr_guard.shape[1],)))\n",
    "model_guard5.add(Dense(5, activation='relu'))\n",
    "model_guard5.add(Dropout(0.3))\n",
    "model_guard5.add(Dense(3, activation='softmax'))\n",
    "model_guard5.compile(optimizer='sgd', loss='sparse_categorical_crossentropy', metrics=['accuracy'])\n",
    "history_guard5 = model_guard5.fit(pre_tr_guard, clust_tr_guard, batch_size=50, epochs=50 ,verbose=0)\n",
    "predictions_guard5 = model_guard5.predict(pre_te_guard)\n",
    "\n",
    "max_prob_indices_guard5 = predictions_guard5.argmax(axis = 1)\n",
    "conf_matrix_guard5 = confusion_matrix(clust_te_guard, max_prob_indices_guard5)\n",
    "print(model_guard5.summary())\n",
    "np.trace(conf_matrix_guard5)/len(clust_te_guard)"
   ]
  },
  {
   "cell_type": "code",
   "execution_count": 365,
   "id": "237ea3c8",
   "metadata": {},
   "outputs": [
    {
     "data": {
      "image/png": "[encoded data removed]",
      "text/plain": [
       "<Figure size 432x288 with 2 Axes>"
      ]
     },
     "metadata": {
      "needs_background": "light"
     },
     "output_type": "display_data"
    }
   ],
   "source": [
    "ax = sns.heatmap(conf_matrix_guard5, annot=True, fmt=\"d\", cmap=\"Blues\")\n",
    "ax.set_title(\"Confusion Matrix for DNN for Guards\");"
   ]
  },
  {
   "cell_type": "code",
   "execution_count": 352,
   "id": "0b07e397",
   "metadata": {},
   "outputs": [
    {
     "name": "stdout",
     "output_type": "stream",
     "text": [
      "4/4 [==============================] - 0s 4ms/step\n",
      "Model: \"sequential_97\"\n",
      "_________________________________________________________________\n",
      " Layer (type)                Output Shape              Param #   \n",
      "=================================================================\n",
      " flatten_97 (Flatten)        (None, 33)                0         \n",
      "                                                                 \n",
      " dense_194 (Dense)           (None, 6)                 204       \n",
      "                                                                 \n",
      " dropout_97 (Dropout)        (None, 6)                 0         \n",
      "                                                                 \n",
      " dense_195 (Dense)           (None, 3)                 21        \n",
      "                                                                 \n",
      "=================================================================\n",
      "Total params: 225 (900.00 Byte)\n",
      "Trainable params: 225 (900.00 Byte)\n",
      "Non-trainable params: 0 (0.00 Byte)\n",
      "_________________________________________________________________\n",
      "None\n"
     ]
    },
    {
     "data": {
      "text/plain": [
       "0.5725806451612904"
      ]
     },
     "execution_count": 352,
     "metadata": {},
     "output_type": "execute_result"
    }
   ],
   "source": [
    "## 6\n",
    "model_guard6 = Sequential()\n",
    "model_guard6.add(Flatten(input_shape=(pre_tr_guard.shape[1],)))\n",
    "model_guard6.add(Dense(6, activation='relu'))\n",
    "model_guard6.add(Dropout(0.3))\n",
    "model_guard6.add(Dense(3, activation='softmax'))\n",
    "model_guard6.compile(optimizer='sgd', loss='sparse_categorical_crossentropy', metrics=['accuracy'])\n",
    "history_guard6 = model_guard6.fit(pre_tr_guard, clust_tr_guard, batch_size=50, epochs=50 ,verbose=0)\n",
    "predictions_guard6 = model_guard6.predict(pre_te_guard)\n",
    "\n",
    "max_prob_indices_guard6 = predictions_guard6.argmax(axis = 1)\n",
    "conf_matrix_guard6 = confusion_matrix(clust_te_guard, max_prob_indices_guard6)\n",
    "print(model_guard6.summary())\n",
    "np.trace(conf_matrix_guard6)/len(clust_te_guard)"
   ]
  },
  {
   "cell_type": "code",
   "execution_count": 350,
   "id": "70972347",
   "metadata": {},
   "outputs": [
    {
     "name": "stdout",
     "output_type": "stream",
     "text": [
      "4/4 [==============================] - 0s 3ms/step\n",
      "Model: \"sequential_95\"\n",
      "_________________________________________________________________\n",
      " Layer (type)                Output Shape              Param #   \n",
      "=================================================================\n",
      " flatten_95 (Flatten)        (None, 33)                0         \n",
      "                                                                 \n",
      " dense_190 (Dense)           (None, 7)                 238       \n",
      "                                                                 \n",
      " dropout_95 (Dropout)        (None, 7)                 0         \n",
      "                                                                 \n",
      " dense_191 (Dense)           (None, 3)                 24        \n",
      "                                                                 \n",
      "=================================================================\n",
      "Total params: 262 (1.02 KB)\n",
      "Trainable params: 262 (1.02 KB)\n",
      "Non-trainable params: 0 (0.00 Byte)\n",
      "_________________________________________________________________\n",
      "None\n"
     ]
    },
    {
     "data": {
      "text/plain": [
       "0.5564516129032258"
      ]
     },
     "execution_count": 350,
     "metadata": {},
     "output_type": "execute_result"
    }
   ],
   "source": [
    "## 7\n",
    "model_guard7 = Sequential()\n",
    "model_guard7.add(Flatten(input_shape=(pre_tr_guard.shape[1],)))\n",
    "model_guard7.add(Dense(7, activation='relu'))\n",
    "model_guard7.add(Dropout(0.3))\n",
    "model_guard7.add(Dense(3, activation='softmax'))\n",
    "model_guard7.compile(optimizer='sgd', loss='sparse_categorical_crossentropy', metrics=['accuracy'])\n",
    "history_guard7 = model_guard7.fit(pre_tr_guard, clust_tr_guard, batch_size=50, epochs=50 ,verbose=0)\n",
    "predictions_guard7 = model_guard7.predict(pre_te_guard)\n",
    "\n",
    "max_prob_indices_guard7 = predictions_guard7.argmax(axis = 1)\n",
    "conf_matrix_guard7 = confusion_matrix(clust_te_guard, max_prob_indices_guard7)\n",
    "print(model_guard7.summary())\n",
    "np.trace(conf_matrix_guard7)/len(clust_te_guard)"
   ]
  },
  {
   "cell_type": "code",
   "execution_count": 347,
   "id": "9aced2e8",
   "metadata": {},
   "outputs": [
    {
     "name": "stdout",
     "output_type": "stream",
     "text": [
      "4/4 [==============================] - 0s 4ms/step\n",
      "Model: \"sequential_92\"\n",
      "_________________________________________________________________\n",
      " Layer (type)                Output Shape              Param #   \n",
      "=================================================================\n",
      " flatten_92 (Flatten)        (None, 33)                0         \n",
      "                                                                 \n",
      " dense_184 (Dense)           (None, 8)                 272       \n",
      "                                                                 \n",
      " dropout_92 (Dropout)        (None, 8)                 0         \n",
      "                                                                 \n",
      " dense_185 (Dense)           (None, 3)                 27        \n",
      "                                                                 \n",
      "=================================================================\n",
      "Total params: 299 (1.17 KB)\n",
      "Trainable params: 299 (1.17 KB)\n",
      "Non-trainable params: 0 (0.00 Byte)\n",
      "_________________________________________________________________\n",
      "None\n"
     ]
    },
    {
     "data": {
      "text/plain": [
       "0.5161290322580645"
      ]
     },
     "execution_count": 347,
     "metadata": {},
     "output_type": "execute_result"
    }
   ],
   "source": [
    "## 8\n",
    "model_guard8 = Sequential()\n",
    "model_guard8.add(Flatten(input_shape=(pre_tr_guard.shape[1],)))\n",
    "model_guard8.add(Dense(8, activation='relu'))\n",
    "model_guard8.add(Dropout(0.3))\n",
    "model_guard8.add(Dense(3, activation='softmax'))\n",
    "model_guard8.compile(optimizer='sgd', loss='sparse_categorical_crossentropy', metrics=['accuracy'])\n",
    "history_guard8 = model_guard8.fit(pre_tr_guard, clust_tr_guard, batch_size=50, epochs=50 ,verbose=0)\n",
    "predictions_guard8 = model_guard8.predict(pre_te_guard)\n",
    "\n",
    "max_prob_indices_guard8 = predictions_guard8.argmax(axis = 1)\n",
    "conf_matrix_guard8 = confusion_matrix(clust_te_guard, max_prob_indices_guard8)\n",
    "print(model_guard8.summary())\n",
    "np.trace(conf_matrix_guard8)/len(clust_te_guard)"
   ]
  },
  {
   "cell_type": "markdown",
   "id": "bc88aca8",
   "metadata": {},
   "source": [
    "### Forwards"
   ]
  },
  {
   "cell_type": "code",
   "execution_count": 325,
   "id": "5d684526",
   "metadata": {},
   "outputs": [
    {
     "name": "stdout",
     "output_type": "stream",
     "text": [
      "6/6 [==============================] - 0s 2ms/step\n",
      "Model: \"sequential_82\"\n",
      "_________________________________________________________________\n",
      " Layer (type)                Output Shape              Param #   \n",
      "=================================================================\n",
      " flatten_82 (Flatten)        (None, 33)                0         \n",
      "                                                                 \n",
      " dense_164 (Dense)           (None, 3)                 102       \n",
      "                                                                 \n",
      " dropout_82 (Dropout)        (None, 3)                 0         \n",
      "                                                                 \n",
      " dense_165 (Dense)           (None, 3)                 12        \n",
      "                                                                 \n",
      "=================================================================\n",
      "Total params: 114 (456.00 Byte)\n",
      "Trainable params: 114 (456.00 Byte)\n",
      "Non-trainable params: 0 (0.00 Byte)\n",
      "_________________________________________________________________\n",
      "None\n"
     ]
    },
    {
     "data": {
      "text/plain": [
       "0.5668449197860963"
      ]
     },
     "execution_count": 325,
     "metadata": {},
     "output_type": "execute_result"
    }
   ],
   "source": [
    "## 3\n",
    "model_forw3 = Sequential()\n",
    "model_forw3.add(Flatten(input_shape=(pre_tr_forw.shape[1],)))\n",
    "model_forw3.add(Dense(3, activation='relu'))\n",
    "model_forw3.add(Dropout(0.3))\n",
    "model_forw3.add(Dense(3, activation='softmax'))\n",
    "model_forw3.compile(optimizer='sgd', loss='sparse_categorical_crossentropy', metrics=['accuracy'])\n",
    "history_forw3 = model_forw3.fit(pre_tr_forw, clust_tr_forw, batch_size=50, epochs=50 ,verbose=0)\n",
    "predictions_forw3 = model_forw3.predict(pre_te_forw)\n",
    "\n",
    "max_prob_indices_forw3 = predictions_forw3.argmax(axis = 1)\n",
    "conf_matrix_forw3 = confusion_matrix(clust_te_forw, max_prob_indices_forw3)\n",
    "print(model_forw3.summary())\n",
    "np.trace(conf_matrix_forw3)/len(clust_te_forw)"
   ]
  },
  {
   "cell_type": "code",
   "execution_count": 326,
   "id": "e8b4674a",
   "metadata": {},
   "outputs": [
    {
     "name": "stdout",
     "output_type": "stream",
     "text": [
      "6/6 [==============================] - 0s 3ms/step\n",
      "Model: \"sequential_83\"\n",
      "_________________________________________________________________\n",
      " Layer (type)                Output Shape              Param #   \n",
      "=================================================================\n",
      " flatten_83 (Flatten)        (None, 33)                0         \n",
      "                                                                 \n",
      " dense_166 (Dense)           (None, 4)                 136       \n",
      "                                                                 \n",
      " dropout_83 (Dropout)        (None, 4)                 0         \n",
      "                                                                 \n",
      " dense_167 (Dense)           (None, 3)                 15        \n",
      "                                                                 \n",
      "=================================================================\n",
      "Total params: 151 (604.00 Byte)\n",
      "Trainable params: 151 (604.00 Byte)\n",
      "Non-trainable params: 0 (0.00 Byte)\n",
      "_________________________________________________________________\n",
      "None\n"
     ]
    },
    {
     "data": {
      "text/plain": [
       "0.5721925133689839"
      ]
     },
     "execution_count": 326,
     "metadata": {},
     "output_type": "execute_result"
    }
   ],
   "source": [
    "## 4\n",
    "model_forw4 = Sequential()\n",
    "model_forw4.add(Flatten(input_shape=(pre_tr_forw.shape[1],)))\n",
    "model_forw4.add(Dense(4, activation='relu'))\n",
    "model_forw4.add(Dropout(0.3))\n",
    "model_forw4.add(Dense(3, activation='softmax'))\n",
    "model_forw4.compile(optimizer='sgd', loss='sparse_categorical_crossentropy', metrics=['accuracy'])\n",
    "history_forw4 = model_forw4.fit(pre_tr_forw, clust_tr_forw, batch_size=50, epochs=50 ,verbose=0)\n",
    "predictions_forw4 = model_forw4.predict(pre_te_forw)\n",
    "\n",
    "max_prob_indices_forw4 = predictions_forw4.argmax(axis = 1)\n",
    "conf_matrix_forw4 = confusion_matrix(clust_te_forw, max_prob_indices_forw4)\n",
    "print(model_forw4.summary())\n",
    "np.trace(conf_matrix_forw4)/len(clust_te_forw)"
   ]
  },
  {
   "cell_type": "code",
   "execution_count": 327,
   "id": "ae01f2d1",
   "metadata": {},
   "outputs": [
    {
     "name": "stdout",
     "output_type": "stream",
     "text": [
      "6/6 [==============================] - 0s 3ms/step\n",
      "Model: \"sequential_84\"\n",
      "_________________________________________________________________\n",
      " Layer (type)                Output Shape              Param #   \n",
      "=================================================================\n",
      " flatten_84 (Flatten)        (None, 33)                0         \n",
      "                                                                 \n",
      " dense_168 (Dense)           (None, 5)                 170       \n",
      "                                                                 \n",
      " dropout_84 (Dropout)        (None, 5)                 0         \n",
      "                                                                 \n",
      " dense_169 (Dense)           (None, 3)                 18        \n",
      "                                                                 \n",
      "=================================================================\n",
      "Total params: 188 (752.00 Byte)\n",
      "Trainable params: 188 (752.00 Byte)\n",
      "Non-trainable params: 0 (0.00 Byte)\n",
      "_________________________________________________________________\n",
      "None\n"
     ]
    },
    {
     "data": {
      "text/plain": [
       "0.6149732620320856"
      ]
     },
     "execution_count": 327,
     "metadata": {},
     "output_type": "execute_result"
    }
   ],
   "source": [
    "## 5\n",
    "model_forw5 = Sequential()\n",
    "model_forw5.add(Flatten(input_shape=(pre_tr_forw.shape[1],)))\n",
    "model_forw5.add(Dense(5, activation='relu'))\n",
    "model_forw5.add(Dropout(0.3))\n",
    "model_forw5.add(Dense(3, activation='softmax'))\n",
    "model_forw5.compile(optimizer='sgd', loss='sparse_categorical_crossentropy', metrics=['accuracy'])\n",
    "history_forw5 = model_forw5.fit(pre_tr_forw, clust_tr_forw, batch_size=50, epochs=50 ,verbose=0)\n",
    "predictions_forw5 = model_forw5.predict(pre_te_forw)\n",
    "\n",
    "max_prob_indices_forw5 = predictions_forw5.argmax(axis = 1)\n",
    "conf_matrix_forw5 = confusion_matrix(clust_te_forw, max_prob_indices_forw5)\n",
    "print(model_forw5.summary())\n",
    "np.trace(conf_matrix_forw5)/len(clust_te_forw)"
   ]
  },
  {
   "cell_type": "code",
   "execution_count": 359,
   "id": "35ff2e2a",
   "metadata": {},
   "outputs": [
    {
     "data": {
      "image/png": "[encoded data removed]",
      "text/plain": [
       "<Figure size 432x288 with 2 Axes>"
      ]
     },
     "metadata": {
      "needs_background": "light"
     },
     "output_type": "display_data"
    }
   ],
   "source": [
    "ax = sns.heatmap(conf_matrix_forw5, annot=True, fmt=\"d\", cmap=\"Blues\")\n",
    "ax.set_title(\"Confusion Matrix for DNN for Forwards\");"
   ]
  },
  {
   "cell_type": "code",
   "execution_count": 328,
   "id": "afa09aa7",
   "metadata": {},
   "outputs": [
    {
     "name": "stdout",
     "output_type": "stream",
     "text": [
      "6/6 [==============================] - 0s 4ms/step\n",
      "Model: \"sequential_85\"\n",
      "_________________________________________________________________\n",
      " Layer (type)                Output Shape              Param #   \n",
      "=================================================================\n",
      " flatten_85 (Flatten)        (None, 33)                0         \n",
      "                                                                 \n",
      " dense_170 (Dense)           (None, 6)                 204       \n",
      "                                                                 \n",
      " dropout_85 (Dropout)        (None, 6)                 0         \n",
      "                                                                 \n",
      " dense_171 (Dense)           (None, 3)                 21        \n",
      "                                                                 \n",
      "=================================================================\n",
      "Total params: 225 (900.00 Byte)\n",
      "Trainable params: 225 (900.00 Byte)\n",
      "Non-trainable params: 0 (0.00 Byte)\n",
      "_________________________________________________________________\n",
      "None\n"
     ]
    },
    {
     "data": {
      "text/plain": [
       "0.5614973262032086"
      ]
     },
     "execution_count": 328,
     "metadata": {},
     "output_type": "execute_result"
    }
   ],
   "source": [
    "## 6\n",
    "model_forw6 = Sequential()\n",
    "model_forw6.add(Flatten(input_shape=(pre_tr_forw.shape[1],)))\n",
    "model_forw6.add(Dense(6, activation='relu'))\n",
    "model_forw6.add(Dropout(0.3))\n",
    "model_forw6.add(Dense(3, activation='softmax'))\n",
    "model_forw6.compile(optimizer='sgd', loss='sparse_categorical_crossentropy', metrics=['accuracy'])\n",
    "history_forw6 = model_forw6.fit(pre_tr_forw, clust_tr_forw, batch_size=50, epochs=50 ,verbose=0)\n",
    "predictions_forw6 = model_forw6.predict(pre_te_forw)\n",
    "\n",
    "max_prob_indices_forw6 = predictions_forw6.argmax(axis = 1)\n",
    "conf_matrix_forw6 = confusion_matrix(clust_te_forw, max_prob_indices_forw6)\n",
    "print(model_forw6.summary())\n",
    "np.trace(conf_matrix_forw6)/len(clust_te_forw)"
   ]
  },
  {
   "cell_type": "code",
   "execution_count": 339,
   "id": "d0316428",
   "metadata": {},
   "outputs": [
    {
     "name": "stdout",
     "output_type": "stream",
     "text": [
      "6/6 [==============================] - 0s 4ms/step\n",
      "Model: \"sequential_88\"\n",
      "_________________________________________________________________\n",
      " Layer (type)                Output Shape              Param #   \n",
      "=================================================================\n",
      " flatten_88 (Flatten)        (None, 33)                0         \n",
      "                                                                 \n",
      " dense_176 (Dense)           (None, 7)                 238       \n",
      "                                                                 \n",
      " dropout_88 (Dropout)        (None, 7)                 0         \n",
      "                                                                 \n",
      " dense_177 (Dense)           (None, 3)                 24        \n",
      "                                                                 \n",
      "=================================================================\n",
      "Total params: 262 (1.02 KB)\n",
      "Trainable params: 262 (1.02 KB)\n",
      "Non-trainable params: 0 (0.00 Byte)\n",
      "_________________________________________________________________\n",
      "None\n"
     ]
    },
    {
     "data": {
      "text/plain": [
       "0.5561497326203209"
      ]
     },
     "execution_count": 339,
     "metadata": {},
     "output_type": "execute_result"
    }
   ],
   "source": [
    "## 7\n",
    "model_forw7 = Sequential()\n",
    "model_forw7.add(Flatten(input_shape=(pre_tr_forw.shape[1],)))\n",
    "model_forw7.add(Dense(7, activation='relu'))\n",
    "model_forw7.add(Dropout(0.3))\n",
    "model_forw7.add(Dense(3, activation='softmax'))\n",
    "model_forw7.compile(optimizer='sgd', loss='sparse_categorical_crossentropy', metrics=['accuracy'])\n",
    "history_forw7 = model_forw7.fit(pre_tr_forw, clust_tr_forw, batch_size=50, epochs=50 ,verbose=0)\n",
    "predictions_forw7 = model_forw7.predict(pre_te_forw)\n",
    "\n",
    "max_prob_indices_forw7 = predictions_forw7.argmax(axis = 1)\n",
    "conf_matrix_forw7 = confusion_matrix(clust_te_forw, max_prob_indices_forw7)\n",
    "print(model_forw7.summary())\n",
    "np.trace(conf_matrix_forw7)/len(clust_te_forw)"
   ]
  },
  {
   "cell_type": "code",
   "execution_count": 357,
   "id": "be6d8e14",
   "metadata": {},
   "outputs": [
    {
     "name": "stdout",
     "output_type": "stream",
     "text": [
      "6/6 [==============================] - 0s 4ms/step\n",
      "Model: \"sequential_102\"\n",
      "_________________________________________________________________\n",
      " Layer (type)                Output Shape              Param #   \n",
      "=================================================================\n",
      " flatten_102 (Flatten)       (None, 33)                0         \n",
      "                                                                 \n",
      " dense_204 (Dense)           (None, 8)                 272       \n",
      "                                                                 \n",
      " dropout_102 (Dropout)       (None, 8)                 0         \n",
      "                                                                 \n",
      " dense_205 (Dense)           (None, 3)                 27        \n",
      "                                                                 \n",
      "=================================================================\n",
      "Total params: 299 (1.17 KB)\n",
      "Trainable params: 299 (1.17 KB)\n",
      "Non-trainable params: 0 (0.00 Byte)\n",
      "_________________________________________________________________\n",
      "None\n"
     ]
    },
    {
     "data": {
      "text/plain": [
       "0.5828877005347594"
      ]
     },
     "execution_count": 357,
     "metadata": {},
     "output_type": "execute_result"
    }
   ],
   "source": [
    "## 8\n",
    "model_forw8 = Sequential()\n",
    "model_forw8.add(Flatten(input_shape=(pre_tr_forw.shape[1],)))\n",
    "model_forw8.add(Dense(8, activation='relu'))\n",
    "model_forw8.add(Dropout(0.3))\n",
    "model_forw8.add(Dense(3, activation='softmax'))\n",
    "model_forw8.compile(optimizer='sgd', loss='sparse_categorical_crossentropy', metrics=['accuracy'])\n",
    "history_forw8 = model_forw8.fit(pre_tr_forw, clust_tr_forw, batch_size=50, epochs=50 ,verbose=0)\n",
    "predictions_forw8 = model_forw8.predict(pre_te_forw)\n",
    "\n",
    "max_prob_indices_forw8 = predictions_forw8.argmax(axis = 1)\n",
    "conf_matrix_forw8 = confusion_matrix(clust_te_forw, max_prob_indices_forw8)\n",
    "print(model_forw8.summary())\n",
    "np.trace(conf_matrix_forw8)/len(clust_te_forw)"
   ]
  },
  {
   "cell_type": "markdown",
   "id": "dcc57cd0",
   "metadata": {},
   "source": [
    "## 7. Random Forest - Guard"
   ]
  },
  {
   "cell_type": "markdown",
   "id": "6225407c",
   "metadata": {},
   "source": [
    "#### RF Grid Search"
   ]
  },
  {
   "cell_type": "code",
   "execution_count": 220,
   "id": "7302d4e7",
   "metadata": {},
   "outputs": [
    {
     "data": {
      "text/plain": [
       "{'criterion': 'gini', 'min_samples_split': 12, 'n_estimators': 30}"
      ]
     },
     "execution_count": 220,
     "metadata": {},
     "output_type": "execute_result"
    }
   ],
   "source": [
    "from sklearn.model_selection import GridSearchCV\n",
    "from sklearn.metrics import accuracy_score\n",
    "\n",
    "param_grid = {\n",
    "    'n_estimators': [20, 30, 40, 50, 60, 70],\n",
    "    'criterion': ['entropy', 'gini', 'log_loss'],\n",
    "    'min_samples_split':[2,4,6,8,10,12,14,16,18,20],\n",
    "    \n",
    "}\n",
    "\n",
    "# Create a random forest classifier\n",
    "rf_guard_gs = RandomForestClassifier(random_state = 5)\n",
    "\n",
    "# Use grid search to find the best hyperparameters\n",
    "grid_guard = GridSearchCV(rf_guard_gs, param_grid, cv=5, scoring='accuracy')\n",
    "\n",
    "# Fit the grid search object to the data\n",
    "grid_guard.fit(pre_tr_guard, clust_tr_guard)\n",
    "grid_guard.best_params_"
   ]
  },
  {
   "cell_type": "markdown",
   "id": "cc327e0f",
   "metadata": {},
   "source": [
    "#### Fit RF using the recommended hyperparameters"
   ]
  },
  {
   "cell_type": "code",
   "execution_count": 221,
   "id": "5f0b800b",
   "metadata": {},
   "outputs": [
    {
     "data": {
      "text/plain": [
       "0.6451612903225806"
      ]
     },
     "execution_count": 221,
     "metadata": {},
     "output_type": "execute_result"
    }
   ],
   "source": [
    "\n",
    "rf_guard_gs = RandomForestClassifier(random_state = 5, n_estimators = 30, max_features=\"sqrt\", \n",
    "                                     criterion = \"gini\", min_samples_split = 12)\n",
    "rf_guard_gs.fit(pre_tr_guard, clust_tr_guard)\n",
    "rf_pred_guard_gs = rf_guard_gs.predict(pre_te_guard)\n",
    "accuracy_score(rf_pred_guard_gs, clust_te_guard)"
   ]
  },
  {
   "cell_type": "markdown",
   "id": "3567392d",
   "metadata": {},
   "source": [
    "#### Feature importance of RF for Guards"
   ]
  },
  {
   "cell_type": "code",
   "execution_count": 366,
   "id": "5442308f",
   "metadata": {},
   "outputs": [
    {
     "data": {
      "image/png": "[encoded data removed]",
      "text/plain": [
       "<Figure size 432x288 with 1 Axes>"
      ]
     },
     "metadata": {
      "needs_background": "light"
     },
     "output_type": "display_data"
    }
   ],
   "source": [
    "importances = rf_guard_gs.feature_importances_\n",
    "\n",
    "feature_names = X_df.columns.to_list()\n",
    "\n",
    "forest_importances = pd.DataFrame(pd.Series(importances, index=feature_names))\n",
    "forest_importances.columns = ['importances']\n",
    "\n",
    "forest_importances = forest_importances.sort_values(by = 'importances', ascending = False)\n",
    "\n",
    "\n",
    "# filter to only 10 most important variables when plotting\n",
    "\n",
    "\n",
    "fig, ax = plt.subplots()\n",
    "forest_importances.head(10).plot.bar(ax=ax, legend = None)\n",
    "ax.set_title(\"Feature importances using MDI for Guards\")\n",
    "ax.set_ylabel(\"Mean decrease in impurity\")\n",
    "fig.tight_layout()\n"
   ]
  },
  {
   "cell_type": "markdown",
   "id": "542ec430",
   "metadata": {},
   "source": [
    "#### Confusion Matrix for Guards"
   ]
  },
  {
   "cell_type": "code",
   "execution_count": 207,
   "id": "ddfd952e",
   "metadata": {},
   "outputs": [
    {
     "data": {
      "image/png": "[encoded data removed]",
      "text/plain": [
       "<Figure size 432x288 with 2 Axes>"
      ]
     },
     "metadata": {
      "needs_background": "light"
     },
     "output_type": "display_data"
    }
   ],
   "source": [
    "cm_guard = confusion_matrix(clust_te_guard, rf_pred_guard_gs)\n",
    "\n",
    "\n",
    "ax = sns.heatmap(cm_guard, annot=True, fmt=\"d\", cmap=\"Blues\")\n",
    "ax.set_title(\"Confusion Matrix for Random Forest for Guards\");"
   ]
  },
  {
   "cell_type": "markdown",
   "id": "c614d2e8",
   "metadata": {},
   "source": [
    "## 8. Random Forest - Forward"
   ]
  },
  {
   "cell_type": "markdown",
   "id": "4efafc0f",
   "metadata": {},
   "source": [
    "#### RF Grid Search"
   ]
  },
  {
   "cell_type": "code",
   "execution_count": 216,
   "id": "65673f2d",
   "metadata": {},
   "outputs": [
    {
     "data": {
      "text/plain": [
       "{'criterion': 'gini', 'min_samples_split': 4, 'n_estimators': 50}"
      ]
     },
     "execution_count": 216,
     "metadata": {},
     "output_type": "execute_result"
    }
   ],
   "source": [
    "param_grid = {\n",
    "    'n_estimators': [20, 30, 40, 50, 60, 70],\n",
    "    'criterion': ['entropy', 'gini'],\n",
    "    'min_samples_split':[2,4,6,8,10,12,14,16,18,20],\n",
    "}\n",
    "\n",
    "# Create a random forest classifier\n",
    "rf_forw_gs = RandomForestClassifier(random_state = 5)\n",
    "\n",
    "# Use grid search to find the best hyperparameters\n",
    "grid_forw = GridSearchCV(rf_forw_gs, param_grid, cv=5, scoring='accuracy')\n",
    "\n",
    "# Fit the grid search object to the data\n",
    "grid_forw.fit(pre_tr_forw, clust_tr_forw)\n",
    "grid_forw.best_params_"
   ]
  },
  {
   "cell_type": "markdown",
   "id": "435ee060",
   "metadata": {},
   "source": [
    "#### Fit RF using the recommended hyperparameters"
   ]
  },
  {
   "cell_type": "code",
   "execution_count": 345,
   "id": "5fbab1fa",
   "metadata": {},
   "outputs": [
    {
     "data": {
      "text/plain": [
       "0.6310160427807486"
      ]
     },
     "execution_count": 345,
     "metadata": {},
     "output_type": "execute_result"
    }
   ],
   "source": [
    "rf_forw_gs = RandomForestClassifier(random_state = 5, n_estimators=50, max_features=\"sqrt\", \n",
    "                                 criterion = \"gini\" ,min_samples_split = 4)\n",
    "rf_forw_gs.fit(pre_tr_forw, clust_tr_forw)\n",
    "rf_pred_forw_gs = rf_forw_gs.predict(pre_te_forw)\n",
    "accuracy_score(rf_pred_forw_gs, clust_te_forw)"
   ]
  },
  {
   "cell_type": "markdown",
   "id": "44788ebf",
   "metadata": {},
   "source": [
    "#### Feature importance of RF for Forwards"
   ]
  },
  {
   "cell_type": "code",
   "execution_count": 367,
   "id": "aff3592f",
   "metadata": {},
   "outputs": [
    {
     "data": {
      "image/png": "[encoded data removed]",
      "text/plain": [
       "<Figure size 432x288 with 1 Axes>"
      ]
     },
     "metadata": {
      "needs_background": "light"
     },
     "output_type": "display_data"
    }
   ],
   "source": [
    "#import matplotlib.pyplot as plt\n",
    "importances = rf_forw_gs.feature_importances_\n",
    "\n",
    "feature_names = X_df.columns.to_list()\n",
    "\n",
    "forest_importances = pd.DataFrame(pd.Series(importances, index=feature_names))\n",
    "forest_importances.columns = ['importances']\n",
    "\n",
    "forest_importances = forest_importances.sort_values(by = 'importances', ascending = False)\n",
    "\n",
    "\n",
    "# filter to only 10 most important variables when plotting\n",
    "\n",
    "\n",
    "fig, ax = plt.subplots()\n",
    "forest_importances.head(10).plot.bar(ax=ax, legend = None)\n",
    "ax.set_title(\"Feature importances using MDI for Forwards\")\n",
    "ax.set_ylabel(\"Mean decrease in impurity\")\n",
    "fig.tight_layout()\n"
   ]
  },
  {
   "cell_type": "markdown",
   "id": "419bb323",
   "metadata": {},
   "source": [
    "#### Confusion Matrix of RF for Forwards"
   ]
  },
  {
   "cell_type": "code",
   "execution_count": 368,
   "id": "4721a48b",
   "metadata": {},
   "outputs": [
    {
     "data": {
      "image/png": "[encoded data removed]",
      "text/plain": [
       "<Figure size 432x288 with 2 Axes>"
      ]
     },
     "metadata": {
      "needs_background": "light"
     },
     "output_type": "display_data"
    }
   ],
   "source": [
    "cm_forw = confusion_matrix(clust_te_forw, rf_pred_forw_gs)\n",
    "\n",
    "\n",
    "ax = sns.heatmap(cm_forw, annot=True, fmt=\"d\", cmap=\"Blues\")\n",
    "ax.set_title(\"Confusion Matrix for Random Forest for Forwards\");"
   ]
  }
 ],
 "metadata": {
  "kernelspec": {
   "display_name": "Python 3 (ipykernel)",
   "language": "python",
   "name": "python3"
  },
  "language_info": {
   "codemirror_mode": {
    "name": "ipython",
    "version": 3
   },
   "file_extension": ".py",
   "mimetype": "text/x-python",
   "name": "python",
   "nbconvert_exporter": "python",
   "pygments_lexer": "ipython3",
   "version": "3.10.11"
  }
 },
 "nbformat": 4,
 "nbformat_minor": 5
}
